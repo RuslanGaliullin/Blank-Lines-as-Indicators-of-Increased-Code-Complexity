{
 "cells": [
  {
   "cell_type": "code",
   "execution_count": 124,
   "metadata": {},
   "outputs": [],
   "source": [
    "import matplotlib.pyplot as plt\n",
    "import seaborn as sns\n",
    "import pandas as pd\n",
    "import pingouin as pg\n",
    "import numpy as np\n",
    "from scipy.stats import spearmanr\n",
    "import os\n",
    "import shutil\n",
    "from tqdm import tqdm\n",
    "import random\n",
    "from scipy import stats\n",
    "from sklearn.preprocessing import MinMaxScaler\n",
    "from sklearn.cluster import KMeans\n",
    "from sklearn.linear_model import LinearRegression\n"
   ]
  },
  {
   "cell_type": "code",
   "execution_count": null,
   "metadata": {},
   "outputs": [],
   "source": [
    "# Directory name\n",
    "directory_for_paper_data = 'data_for_paper'\n",
    "\n",
    "# Create the directory\n",
    "os.makedirs(directory_for_paper_data)"
   ]
  },
  {
   "cell_type": "markdown",
   "metadata": {},
   "source": [
    "## Load all collected data from csv file"
   ]
  },
  {
   "cell_type": "markdown",
   "metadata": {},
   "source": [
    "#### Firstly, load file with summary metrics with repo and source code files"
   ]
  },
  {
   "cell_type": "code",
   "execution_count": 125,
   "metadata": {},
   "outputs": [
    {
     "name": "stderr",
     "output_type": "stream",
     "text": [
      "/var/folders/_7/w61_y6mj5bgdr26d9sk7tmps8zhr5b/T/ipykernel_1870/1642822901.py:2: DtypeWarning: Columns (15,23) have mixed types. Specify dtype option on import or set low_memory=False.\n",
      "  origin_all_data = pd.read_csv(absolute_file_path)\n"
     ]
    }
   ],
   "source": [
    "absolute_file_path = 'data/all.csv'\n",
    "origin_all_data = pd.read_csv(absolute_file_path)"
   ]
  },
  {
   "cell_type": "markdown",
   "metadata": {},
   "source": [
    "#### Secondly, get files from each repo separetaly and mearch with comman table"
   ]
  },
  {
   "cell_type": "code",
   "execution_count": 77,
   "metadata": {},
   "outputs": [],
   "source": [
    "df = origin_all_data[[\"repo\", \"java_file\"]]\n",
    "columns = ['cc', 'nobl', 'loc', 'hse', 'hsd', 'hsv', 'coco', 'midx', 'nocl']\n",
    "\n",
    "merged_df = df.copy()\n",
    "for i in columns:\n",
    "    temp = pd.read_csv(f\"data/{i}.csv\")\n",
    "    temp = temp.drop_duplicates(['repo', 'java_file'])\n",
    "    merged_df = pd.merge(merged_df, temp, on=['repo', 'java_file'], how='inner')"
   ]
  },
  {
   "cell_type": "code",
   "execution_count": 78,
   "metadata": {},
   "outputs": [
    {
     "name": "stdout",
     "output_type": "stream",
     "text": [
      "<class 'pandas.core.frame.DataFrame'>\n",
      "RangeIndex: 606000 entries, 0 to 605999\n",
      "Data columns (total 11 columns):\n",
      " #   Column     Non-Null Count   Dtype  \n",
      "---  ------     --------------   -----  \n",
      " 0   repo       606000 non-null  object \n",
      " 1   java_file  606000 non-null  object \n",
      " 2   cc         606000 non-null  int64  \n",
      " 3   nobl       606000 non-null  int64  \n",
      " 4   loc        606000 non-null  int64  \n",
      " 5   hse        606000 non-null  float64\n",
      " 6   hsd        606000 non-null  float64\n",
      " 7   hsv        606000 non-null  float64\n",
      " 8   coco       606000 non-null  int64  \n",
      " 9   midx       606000 non-null  float64\n",
      " 10  nocl       606000 non-null  int64  \n",
      "dtypes: float64(4), int64(5), object(2)\n",
      "memory usage: 50.9+ MB\n"
     ]
    }
   ],
   "source": [
    "merged_df.info()"
   ]
  },
  {
   "cell_type": "markdown",
   "metadata": {},
   "source": [
    "#### Validate that concatenated repo data is equal to data in all-data table (drop test repo \"yegor256/jaxec\")"
   ]
  },
  {
   "cell_type": "code",
   "execution_count": 79,
   "metadata": {},
   "outputs": [],
   "source": [
    "joint_values = pd.merge(origin_all_data, merged_df, on=['repo', 'java_file'], suffixes=('_df1', '_df2'), how='right')\n",
    "joint_values = joint_values[joint_values['repo'] != 'yegor256/jaxec']\n",
    "\n",
    "assert (joint_values['cc_df1'].astype(int) == joint_values['cc_df2']).all()\n",
    "assert (joint_values['coco_df1'].astype(int) == joint_values['coco_df2']).all()\n",
    "assert (joint_values['hsv_df1'].astype(float) == joint_values['hsv_df2']).all()\n",
    "assert (joint_values['hse_df1'].astype(float) == joint_values['hse_df2']).all()\n",
    "assert (joint_values['hsd_df1'].astype(float) == joint_values['hsd_df2']).all()\n",
    "assert (joint_values['loc_df1'].astype(int) == joint_values['loc_df2']).all()\n",
    "assert (joint_values['nobl_df1'].astype(int) == joint_values['nobl_df2']).all()\n",
    "assert (joint_values['midx_df1'].astype(float) == joint_values['midx_df2']).all()\n",
    "assert (joint_values['nocl_df1'].astype(int) == joint_values['nocl_df2']).all()\n",
    "\n",
    "merged_df = merged_df[merged_df['repo'] != 'yegor256/jaxec']"
   ]
  },
  {
   "cell_type": "code",
   "execution_count": 118,
   "metadata": {},
   "outputs": [
    {
     "name": "stdout",
     "output_type": "stream",
     "text": [
      "<class 'pandas.core.frame.DataFrame'>\n",
      "Index: 605966 entries, 17 to 605999\n",
      "Data columns (total 11 columns):\n",
      " #   Column     Non-Null Count   Dtype  \n",
      "---  ------     --------------   -----  \n",
      " 0   repo       605966 non-null  object \n",
      " 1   java_file  605966 non-null  object \n",
      " 2   cc         605966 non-null  int64  \n",
      " 3   nobl       605966 non-null  int64  \n",
      " 4   loc        605966 non-null  int64  \n",
      " 5   hse        605966 non-null  float64\n",
      " 6   hsd        605966 non-null  float64\n",
      " 7   hsv        605966 non-null  float64\n",
      " 8   coco       605966 non-null  int64  \n",
      " 9   midx       605966 non-null  float64\n",
      " 10  nocl       605966 non-null  int64  \n",
      "dtypes: float64(4), int64(5), object(2)\n",
      "memory usage: 71.6+ MB\n"
     ]
    }
   ],
   "source": [
    "result_df = merged_df.copy()\n",
    "result_df.info()"
   ]
  },
  {
   "cell_type": "markdown",
   "metadata": {},
   "source": [
    "## Reorgonize collected data"
   ]
  },
  {
   "cell_type": "markdown",
   "metadata": {},
   "source": [
    "#### Check there is not incorrect data"
   ]
  },
  {
   "cell_type": "code",
   "execution_count": 119,
   "metadata": {},
   "outputs": [],
   "source": [
    "assert (result_df['loc'] != 0).all(), \"There are rows with loc=0 in result_df\""
   ]
  },
  {
   "cell_type": "markdown",
   "metadata": {},
   "source": [
    "#### Interpret single-line methods like foo() { return 0; } as if they were multi-line methods, such as: foo() {\\n return 0;\\n}"
   ]
  },
  {
   "cell_type": "code",
   "execution_count": 120,
   "metadata": {},
   "outputs": [],
   "source": [
    "result_df.loc[result_df['loc'] == 1, 'loc'] = 3"
   ]
  },
  {
   "cell_type": "markdown",
   "metadata": {},
   "source": [
    "#### Exclude 2 lines of the signuter and of the last \"\\}\" in order to work only with **body** of the method"
   ]
  },
  {
   "cell_type": "code",
   "execution_count": 121,
   "metadata": {},
   "outputs": [],
   "source": [
    "result_df['loc'] = (result_df['loc'] - 2).clip(lower=0)"
   ]
  },
  {
   "cell_type": "code",
   "execution_count": 127,
   "metadata": {},
   "outputs": [
    {
     "data": {
      "text/plain": [
       "(10401, 11)"
      ]
     },
     "execution_count": 127,
     "metadata": {},
     "output_type": "execute_result"
    }
   ],
   "source": [
    "result_df[result_df['loc']>42].shape"
   ]
  },
  {
   "cell_type": "markdown",
   "metadata": {},
   "source": [
    "#### Add column with blank line ratio (aka bl_ratio) = nobl / loc, and comment line ratio (aka cl_ratio) = nocl / loc,"
   ]
  },
  {
   "cell_type": "code",
   "execution_count": 84,
   "metadata": {},
   "outputs": [],
   "source": [
    "result_df.loc[:, \"bl_ratio\"] = result_df[\"nobl\"] / result_df[\"loc\"]\n",
    "result_df.loc[:, \"cl_ratio\"] = result_df[\"nocl\"] / result_df[\"loc\"]"
   ]
  },
  {
   "cell_type": "markdown",
   "metadata": {},
   "source": [
    "### Split dataset into 3 groups:\n",
    "- _group A_ (aka subset_df) - all methods\n",
    "- _group B_ (aka subset_df_3_40) - methods with 1 $\\lt$ LoC $\\le$ 42\n",
    "- _group C_ (aka subset_df_3_40_with_non_zero_bl) methods with 1 $\\lt$ LoC $\\le$ 42 and NoBL $\\gt$ 0"
   ]
  },
  {
   "cell_type": "code",
   "execution_count": 85,
   "metadata": {},
   "outputs": [
    {
     "name": "stderr",
     "output_type": "stream",
     "text": [
      "/var/folders/_7/w61_y6mj5bgdr26d9sk7tmps8zhr5b/T/ipykernel_1870/567013462.py:5: UserWarning: Boolean Series key will be reindexed to match DataFrame index.\n",
      "  subset_df_3_40_with_non_zero_bl = subset_df_3_40[(subset_df['nobl'] > 1)]\n"
     ]
    }
   ],
   "source": [
    "# Extract the relevant columns\n",
    "selected_columns = ['cc', 'nobl', 'loc', 'hse', 'hsd', 'hsv', 'coco', 'midx', 'nocl', 'bl_ratio', 'cl_ratio']\n",
    "subset_df = result_df[selected_columns]\n",
    "subset_df_3_40 = subset_df[(subset_df['loc'] <= 42) & (subset_df['loc'] > 1)]\n",
    "subset_df_3_40_with_non_zero_bl = subset_df_3_40[(subset_df['nobl'] > 1)]"
   ]
  },
  {
   "cell_type": "code",
   "execution_count": 86,
   "metadata": {},
   "outputs": [
    {
     "data": {
      "text/plain": [
       "repo                                 databricks/learning-spark\n",
       "java_file    /src/main/java/com/oreilly/learningsparkexampl...\n",
       "cc                                                           1\n",
       "nobl                                                         0\n",
       "loc                                                          1\n",
       "hse                                                    258.304\n",
       "hsd                                                      5.333\n",
       "hsv                                                     48.432\n",
       "coco                                                         0\n",
       "midx                                                     100.0\n",
       "nocl                                                         0\n",
       "bl_ratio                                                   0.0\n",
       "cl_ratio                                                   0.0\n",
       "Name: 17, dtype: object"
      ]
     },
     "execution_count": 86,
     "metadata": {},
     "output_type": "execute_result"
    }
   ],
   "source": [
    "result_df[(result_df['loc'] == 1)].iloc[0]"
   ]
  },
  {
   "cell_type": "markdown",
   "metadata": {},
   "source": [
    "#### Build additional set of the same groups with more coonditions\n",
    "- nobl_[subset_df, subset_df_3_40, subset_df_3_40_with_non_zero_bl] - same groups A, B, and C without column bl_ratio\n",
    "- robl_[subset_df, subset_df_3_40, subset_df_3_40_with_non_zero_bl] - same groups A, B, and C without column nobl and **finite**, **not null** bl_ratio values"
   ]
  },
  {
   "cell_type": "code",
   "execution_count": 87,
   "metadata": {},
   "outputs": [
    {
     "name": "stdout",
     "output_type": "stream",
     "text": [
      "<class 'pandas.core.frame.DataFrame'>\n",
      "Index: 605966 entries, 17 to 605999\n",
      "Data columns (total 10 columns):\n",
      " #   Column    Non-Null Count   Dtype  \n",
      "---  ------    --------------   -----  \n",
      " 0   cc        605966 non-null  int64  \n",
      " 1   nobl      605966 non-null  int64  \n",
      " 2   loc       605966 non-null  int64  \n",
      " 3   hse       605966 non-null  float64\n",
      " 4   hsd       605966 non-null  float64\n",
      " 5   hsv       605966 non-null  float64\n",
      " 6   coco      605966 non-null  int64  \n",
      " 7   midx      605966 non-null  float64\n",
      " 8   nocl      605966 non-null  int64  \n",
      " 9   cl_ratio  596833 non-null  float64\n",
      "dtypes: float64(5), int64(5)\n",
      "memory usage: 67.0 MB\n"
     ]
    }
   ],
   "source": [
    "nobl_subset_df = subset_df.drop(columns=['bl_ratio'], errors='ignore')\n",
    "nobl_subset_df_3_40 = subset_df_3_40.drop(columns=['bl_ratio'], errors='ignore')\n",
    "nobl_subset_df_3_40_with_non_zero_bl = subset_df_3_40_with_non_zero_bl.drop(columns=['bl_ratio'], errors='ignore')\n",
    "nobl_subset_df.info()"
   ]
  },
  {
   "cell_type": "code",
   "execution_count": 88,
   "metadata": {},
   "outputs": [
    {
     "name": "stdout",
     "output_type": "stream",
     "text": [
      "<class 'pandas.core.frame.DataFrame'>\n",
      "Index: 593168 entries, 17 to 605999\n",
      "Data columns (total 10 columns):\n",
      " #   Column    Non-Null Count   Dtype  \n",
      "---  ------    --------------   -----  \n",
      " 0   cc        593168 non-null  int64  \n",
      " 1   loc       593168 non-null  int64  \n",
      " 2   hse       593168 non-null  float64\n",
      " 3   hsd       593168 non-null  float64\n",
      " 4   hsv       593168 non-null  float64\n",
      " 5   coco      593168 non-null  int64  \n",
      " 6   midx      593168 non-null  float64\n",
      " 7   nocl      593168 non-null  int64  \n",
      " 8   bl_ratio  593168 non-null  float64\n",
      " 9   cl_ratio  593168 non-null  float64\n",
      "dtypes: float64(6), int64(4)\n",
      "memory usage: 49.8 MB\n"
     ]
    },
    {
     "name": "stderr",
     "output_type": "stream",
     "text": [
      "/var/folders/_7/w61_y6mj5bgdr26d9sk7tmps8zhr5b/T/ipykernel_1870/3571949685.py:2: UserWarning: Boolean Series key will be reindexed to match DataFrame index.\n",
      "  robl_subset_df_3_40 = subset_df_3_40[np.isfinite(result_df['bl_ratio']) & ~result_df['bl_ratio'].isna()].drop(columns=['nobl'], errors='ignore')\n",
      "/var/folders/_7/w61_y6mj5bgdr26d9sk7tmps8zhr5b/T/ipykernel_1870/3571949685.py:3: UserWarning: Boolean Series key will be reindexed to match DataFrame index.\n",
      "  robl_subset_df_3_40_with_non_zero_bl = subset_df_3_40_with_non_zero_bl[np.isfinite(result_df['bl_ratio']) & ~result_df['bl_ratio'].isna()].drop(columns=['nobl'], errors='ignore')\n"
     ]
    }
   ],
   "source": [
    "robl_subset_df = subset_df[np.isfinite(result_df['bl_ratio']) & ~result_df['bl_ratio'].isna()].drop(columns=['nobl'], errors='ignore')\n",
    "robl_subset_df_3_40 = subset_df_3_40[np.isfinite(result_df['bl_ratio']) & ~result_df['bl_ratio'].isna()].drop(columns=['nobl'], errors='ignore')\n",
    "robl_subset_df_3_40_with_non_zero_bl = subset_df_3_40_with_non_zero_bl[np.isfinite(result_df['bl_ratio']) & ~result_df['bl_ratio'].isna()].drop(columns=['nobl'], errors='ignore')\n",
    "robl_subset_df.info()"
   ]
  },
  {
   "cell_type": "markdown",
   "metadata": {},
   "source": [
    "## Extracting information from data"
   ]
  },
  {
   "cell_type": "markdown",
   "metadata": {},
   "source": [
    "#### Build distribution plots for several complexition metrics between each group"
   ]
  },
  {
   "cell_type": "code",
   "execution_count": 89,
   "metadata": {},
   "outputs": [],
   "source": [
    "def build_box_plot(metric, group_A, group_B, group_C, axis, bottom, top):\n",
    "    data_A = group_A[[metric]].assign(Type=\"any method\")\n",
    "    data_B = group_B[[metric]].assign(Type=\"any NOBL\")\n",
    "    data_C = group_C[[metric]].assign(Type=\"NOBL = 0\")\n",
    "\n",
    "    # Concatenate the two subsets\n",
    "    result_df = pd.concat([data_A, data_B, data_C], ignore_index=True)\n",
    "\n",
    "    # Add another box plot for 'hsd' column where 'nobl' == 0 on the same axis\n",
    "    sns.boxplot(data=result_df, y=metric, hue=\"Type\")\n",
    "\n",
    "    # Set labels and title\n",
    "    axis.set_ylim(bottom=bottom, top=top) \n",
    "    axis.set_ylabel(metric.upper(), fontdict={'size':30, 'font':'times new roman'})\n",
    "    axis.tick_params(labelsize=23)\n",
    "    \n",
    "    axis.set_xticks([]) \n",
    "    axis.get_legend().remove()"
   ]
  },
  {
   "cell_type": "code",
   "execution_count": 90,
   "metadata": {},
   "outputs": [
    {
     "data": {
      "image/png": "[encoded data removed]",
      "text/plain": [
       "<Figure size 1000x600 with 1 Axes>"
      ]
     },
     "metadata": {},
     "output_type": "display_data"
    }
   ],
   "source": [
    "_, ax = plt.subplots(figsize=(10, 6))\n",
    "build_box_plot('hse', subset_df, subset_df_3_40, subset_df_3_40_with_non_zero_bl, ax, bottom=-1000, top=80000)\n",
    "plt.show()"
   ]
  },
  {
   "cell_type": "code",
   "execution_count": 113,
   "metadata": {},
   "outputs": [
    {
     "data": {
      "image/png": "[encoded data removed]",
      "text/plain": [
       "<Figure size 1000x600 with 1 Axes>"
      ]
     },
     "metadata": {},
     "output_type": "display_data"
    }
   ],
   "source": [
    "_, ax = plt.subplots(figsize=(10, 6))\n",
    "build_box_plot('hsv', subset_df, subset_df_3_40, subset_df_3_40_with_non_zero_bl, ax, bottom=-1000, top=8000)\n",
    "plt.show()"
   ]
  },
  {
   "cell_type": "code",
   "execution_count": 115,
   "metadata": {},
   "outputs": [
    {
     "data": {
      "image/png": "[encoded data removed]",
      "text/plain": [
       "<Figure size 1000x600 with 1 Axes>"
      ]
     },
     "metadata": {},
     "output_type": "display_data"
    }
   ],
   "source": [
    "_, ax = plt.subplots(figsize=(10, 6))\n",
    "build_box_plot('hsd', subset_df, subset_df_3_40, subset_df_3_40_with_non_zero_bl, ax, bottom=-10, top=85)\n",
    "plt.show()"
   ]
  },
  {
   "cell_type": "code",
   "execution_count": 116,
   "metadata": {},
   "outputs": [
    {
     "data": {
      "image/png": "[encoded data removed]",
      "text/plain": [
       "<Figure size 1000x600 with 1 Axes>"
      ]
     },
     "metadata": {},
     "output_type": "display_data"
    }
   ],
   "source": [
    "_, ax = plt.subplots(figsize=(10, 6))\n",
    "build_box_plot('cc', subset_df, subset_df_3_40, subset_df_3_40_with_non_zero_bl, ax, bottom=-10, top=40)\n",
    "plt.show()"
   ]
  },
  {
   "cell_type": "markdown",
   "metadata": {},
   "source": [
    "## Building .dat files for paper plots"
   ]
  },
  {
   "cell_type": "code",
   "execution_count": 94,
   "metadata": {},
   "outputs": [],
   "source": [
    "def cluster_and_summarize(df, col1, col2, n_clusters):\n",
    "    scaler = MinMaxScaler()\n",
    "    df[[f'{col1}_norm', f'{col2}_norm']] = scaler.fit_transform(df[[col1, col2]])\n",
    "\n",
    "    kmeans = KMeans(n_clusters=n_clusters, random_state=0)\n",
    "    df['cluster'] = kmeans.fit_predict(df[[f'{col1}_norm', f'{col2}_norm']])\n",
    "\n",
    "    cluster_info = df.groupby('cluster').agg(\n",
    "        count=('cluster', 'size'),\n",
    "        **{f'{col1}': (col1, 'mean'), f'{col2}': (col2, 'mean')}\n",
    "    ).reset_index()\n",
    "    \n",
    "    cluster_info = cluster_info.drop(columns=['cluster'])\n",
    "\n",
    "    return cluster_info"
   ]
  },
  {
   "cell_type": "markdown",
   "metadata": {},
   "source": [
    "### Generate data in csv-files"
   ]
  },
  {
   "cell_type": "code",
   "execution_count": 95,
   "metadata": {},
   "outputs": [],
   "source": [
    "force_rewrite_data = True\n",
    "\n",
    "metrix_mapping = {'bl_ratio':'robl', 'cl_ratio':'rocl', 'nocl':'ncl', 'hse':'hse', 'hsd':'hsd', 'hsv':'hsv'}\n",
    "data = {'groupA': nobl_subset_df, 'groupB': nobl_subset_df_3_40, 'groupC': nobl_subset_df_3_40_with_non_zero_bl}"
   ]
  },
  {
   "cell_type": "code",
   "execution_count": 96,
   "metadata": {},
   "outputs": [
    {
     "name": "stderr",
     "output_type": "stream",
     "text": [
      "  0%|          | 0/6 [00:00<?, ?it/s]"
     ]
    },
    {
     "name": "stdout",
     "output_type": "stream",
     "text": [
      "Done NOBL loc number of points is 2000 in group groupA. It is more False than was\n"
     ]
    },
    {
     "name": "stderr",
     "output_type": "stream",
     "text": [
      "/Users/rmgaliullin/cam_data_600k/.venv/lib/python3.11/site-packages/sklearn/base.py:1474: ConvergenceWarning: Number of distinct clusters (636) found smaller than n_clusters (2000). Possibly due to duplicate points in X.\n",
      "  return fit_method(estimator, *args, **kwargs)\n"
     ]
    },
    {
     "name": "stdout",
     "output_type": "stream",
     "text": [
      "Done NOBL loc number of points is 636 in group groupB. It is more False than was\n"
     ]
    },
    {
     "name": "stderr",
     "output_type": "stream",
     "text": [
      "/Users/rmgaliullin/cam_data_600k/.venv/lib/python3.11/site-packages/sklearn/base.py:1474: ConvergenceWarning: Number of distinct clusters (554) found smaller than n_clusters (2000). Possibly due to duplicate points in X.\n",
      "  return fit_method(estimator, *args, **kwargs)\n",
      " 17%|█▋        | 1/6 [02:26<12:12, 146.45s/it]"
     ]
    },
    {
     "name": "stdout",
     "output_type": "stream",
     "text": [
      "Done NOBL loc number of points is 554 in group groupC. It is more False than was\n",
      "Done NOBL hse number of points is 2000 in group groupA. It is more False than was\n",
      "Done NOBL hse number of points is 2000 in group groupB. It is more False than was\n"
     ]
    },
    {
     "name": "stderr",
     "output_type": "stream",
     "text": [
      " 33%|███▎      | 2/6 [03:49<07:15, 109.00s/it]"
     ]
    },
    {
     "name": "stdout",
     "output_type": "stream",
     "text": [
      "Done NOBL hse number of points is 2000 in group groupC. It is more False than was\n",
      "Done NOBL hsd number of points is 2000 in group groupA. It is more False than was\n",
      "Done NOBL hsd number of points is 2000 in group groupB. It is more False than was\n"
     ]
    },
    {
     "name": "stderr",
     "output_type": "stream",
     "text": [
      " 50%|█████     | 3/6 [05:15<04:56, 98.72s/it] "
     ]
    },
    {
     "name": "stdout",
     "output_type": "stream",
     "text": [
      "Done NOBL hsd number of points is 2000 in group groupC. It is more False than was\n",
      "Done NOBL hsv number of points is 2000 in group groupA. It is more False than was\n",
      "Done NOBL hsv number of points is 2000 in group groupB. It is more False than was\n"
     ]
    },
    {
     "name": "stderr",
     "output_type": "stream",
     "text": [
      " 67%|██████▋   | 4/6 [06:38<03:04, 92.38s/it]"
     ]
    },
    {
     "name": "stdout",
     "output_type": "stream",
     "text": [
      "Done NOBL hsv number of points is 2000 in group groupC. It is more False than was\n",
      "Done NOBL coco number of points is 2000 in group groupA. It is more False than was\n"
     ]
    },
    {
     "name": "stderr",
     "output_type": "stream",
     "text": [
      "/Users/rmgaliullin/cam_data_600k/.venv/lib/python3.11/site-packages/sklearn/base.py:1474: ConvergenceWarning: Number of distinct clusters (611) found smaller than n_clusters (2000). Possibly due to duplicate points in X.\n",
      "  return fit_method(estimator, *args, **kwargs)\n"
     ]
    },
    {
     "name": "stdout",
     "output_type": "stream",
     "text": [
      "Done NOBL coco number of points is 611 in group groupB. It is more False than was\n"
     ]
    },
    {
     "name": "stderr",
     "output_type": "stream",
     "text": [
      "/Users/rmgaliullin/cam_data_600k/.venv/lib/python3.11/site-packages/sklearn/base.py:1474: ConvergenceWarning: Number of distinct clusters (522) found smaller than n_clusters (2000). Possibly due to duplicate points in X.\n",
      "  return fit_method(estimator, *args, **kwargs)\n",
      " 83%|████████▎ | 5/6 [08:02<01:29, 89.33s/it]"
     ]
    },
    {
     "name": "stdout",
     "output_type": "stream",
     "text": [
      "Done NOBL coco number of points is 522 in group groupC. It is more False than was\n",
      "Done NOBL midx number of points is 2000 in group groupA. It is more False than was\n",
      "Done NOBL midx number of points is 2000 in group groupB. It is more False than was\n"
     ]
    },
    {
     "name": "stderr",
     "output_type": "stream",
     "text": [
      "100%|██████████| 6/6 [09:23<00:00, 93.98s/it]"
     ]
    },
    {
     "name": "stdout",
     "output_type": "stream",
     "text": [
      "Done NOBL midx number of points is 2000 in group groupC. It is more False than was\n"
     ]
    },
    {
     "name": "stderr",
     "output_type": "stream",
     "text": [
      "\n"
     ]
    }
   ],
   "source": [
    "\n",
    "for i in tqdm(['loc', 'hse', 'hsd', 'hsv', 'coco', 'midx']):\n",
    "    for group, subset in data.items():\n",
    "        if i == 'nobl':\n",
    "            continue\n",
    "        file_name = f'data_for_paper/{group}_nobl_{metrix_mapping.get(i, i)}.csv'\n",
    "        best_values = cluster_and_summarize(subset, col1=\"nobl\", col2=i, n_clusters=2000)\n",
    "        best_values = best_values.sort_values(by='count', ascending=False).reset_index(drop=True)\n",
    "        result_df_from_file = pd.read_csv(file_name, sep=' ')\n",
    "        should_update_file = best_values.shape[0] > result_df_from_file.shape[0]\n",
    "            \n",
    "        if force_rewrite_data or should_update_file:\n",
    "            result_df = best_values.rename(columns=metrix_mapping)\n",
    "            result_df[metrix_mapping.get(i, i)] = result_df[metrix_mapping.get(i, i)].astype(int)\n",
    "            result_df.to_csv(file_name, index=False, sep=' ')\n",
    "\n",
    "        print(f\"Done NOBL {i} number of points is {len(best_values)} in group {group}. It is more {more} than was\")"
   ]
  },
  {
   "cell_type": "code",
   "execution_count": 97,
   "metadata": {},
   "outputs": [
    {
     "name": "stderr",
     "output_type": "stream",
     "text": [
      "100%|██████████| 2/2 [00:00<00:00, 29.76it/s]"
     ]
    },
    {
     "name": "stdout",
     "output_type": "stream",
     "text": [
      "Done NOBL cc using value counts 1577 in group groupA. It is more False than was\n",
      "Done NOBL cc using value counts 439 in group groupB. It is more False than was\n",
      "Done NOBL cc using value counts 371 in group groupC. It is more False than was\n",
      "Done NOBL nocl using value counts 1253 in group groupA. It is more False than was\n",
      "Done NOBL nocl using value counts 511 in group groupB. It is more False than was\n",
      "Done NOBL nocl using value counts 448 in group groupC. It is more False than was\n"
     ]
    },
    {
     "name": "stderr",
     "output_type": "stream",
     "text": [
      "\n"
     ]
    }
   ],
   "source": [
    "for i in tqdm(['cc', 'nocl']):\n",
    "    for group, subset in data.items():\n",
    "        file_name = f'data_for_paper/{group}_nobl_{metrix_mapping.get(i, i)}.csv'\n",
    "        best_values = subset[['nobl', i]].value_counts().reset_index(name='count')\n",
    "        best_values = best_values.sort_values(by='count', ascending=False).reset_index(drop=True)\n",
    "        result_df_from_file = pd.read_csv(file_name, sep=' ')\n",
    "        should_update_file = len(best_values) > result_df_from_file.shape[0]\n",
    "\n",
    "        if force_rewrite_data or should_update_file:\n",
    "            result_df = best_values.rename(columns=metrix_mapping)\n",
    "            result_df[metrix_mapping.get(i, i)] = result_df[metrix_mapping.get(i, i)].astype(int)\n",
    "            result_df.to_csv(file_name, index=False, sep=' ')\n",
    "\n",
    "        print(f\"Done NOBL {i} using value counts {len(best_values)} in group {group}. It is more {more} than was\")"
   ]
  },
  {
   "cell_type": "code",
   "execution_count": 98,
   "metadata": {},
   "outputs": [],
   "source": [
    "force_rewrite_data = True\n",
    "\n",
    "metrix_mapping = {'bl_ratio':'robl', 'cl_ratio':'rocl', 'nocl':'ncl', 'hse':'hse', 'hsd':'hsd', 'hsv':'hsv'}\n",
    "data = {'groupA': robl_subset_df, 'groupB': robl_subset_df_3_40, 'groupC': robl_subset_df_3_40_with_non_zero_bl}"
   ]
  },
  {
   "cell_type": "code",
   "execution_count": 99,
   "metadata": {},
   "outputs": [
    {
     "name": "stderr",
     "output_type": "stream",
     "text": [
      "  0%|          | 0/9 [00:00<?, ?it/s]"
     ]
    },
    {
     "name": "stdout",
     "output_type": "stream",
     "text": [
      "Done ROBL cc number of points is 1000 in group groupA. It is more False than was\n",
      "Done ROBL cc number of points is 1000 in group groupB. It is more False than was\n"
     ]
    },
    {
     "name": "stderr",
     "output_type": "stream",
     "text": [
      " 11%|█         | 1/9 [00:35<04:45, 35.69s/it]"
     ]
    },
    {
     "name": "stdout",
     "output_type": "stream",
     "text": [
      "Done ROBL cc number of points is 1000 in group groupC. It is more False than was\n",
      "Done ROBL loc number of points is 1000 in group groupA. It is more False than was\n"
     ]
    },
    {
     "name": "stderr",
     "output_type": "stream",
     "text": [
      "/Users/rmgaliullin/cam_data_600k/.venv/lib/python3.11/site-packages/sklearn/base.py:1474: ConvergenceWarning: Number of distinct clusters (636) found smaller than n_clusters (1000). Possibly due to duplicate points in X.\n",
      "  return fit_method(estimator, *args, **kwargs)\n"
     ]
    },
    {
     "name": "stdout",
     "output_type": "stream",
     "text": [
      "Done ROBL loc number of points is 636 in group groupB. It is more False than was\n"
     ]
    },
    {
     "name": "stderr",
     "output_type": "stream",
     "text": [
      "/Users/rmgaliullin/cam_data_600k/.venv/lib/python3.11/site-packages/sklearn/base.py:1474: ConvergenceWarning: Number of distinct clusters (554) found smaller than n_clusters (1000). Possibly due to duplicate points in X.\n",
      "  return fit_method(estimator, *args, **kwargs)\n",
      " 22%|██▏       | 2/9 [01:13<04:19, 37.14s/it]"
     ]
    },
    {
     "name": "stdout",
     "output_type": "stream",
     "text": [
      "Done ROBL loc number of points is 554 in group groupC. It is more False than was\n",
      "Done ROBL hse number of points is 1000 in group groupA. It is more False than was\n",
      "Done ROBL hse number of points is 1000 in group groupB. It is more False than was\n"
     ]
    },
    {
     "name": "stderr",
     "output_type": "stream",
     "text": [
      " 33%|███▎      | 3/9 [01:56<03:57, 39.52s/it]"
     ]
    },
    {
     "name": "stdout",
     "output_type": "stream",
     "text": [
      "Done ROBL hse number of points is 1000 in group groupC. It is more False than was\n",
      "Done ROBL hsd number of points is 1000 in group groupA. It is more False than was\n",
      "Done ROBL hsd number of points is 1000 in group groupB. It is more False than was\n"
     ]
    },
    {
     "name": "stderr",
     "output_type": "stream",
     "text": [
      " 44%|████▍     | 4/9 [02:38<03:23, 40.70s/it]"
     ]
    },
    {
     "name": "stdout",
     "output_type": "stream",
     "text": [
      "Done ROBL hsd number of points is 1000 in group groupC. It is more False than was\n",
      "Done ROBL hsv number of points is 1000 in group groupA. It is more False than was\n",
      "Done ROBL hsv number of points is 1000 in group groupB. It is more False than was\n"
     ]
    },
    {
     "name": "stderr",
     "output_type": "stream",
     "text": [
      " 56%|█████▌    | 5/9 [03:19<02:43, 40.76s/it]"
     ]
    },
    {
     "name": "stdout",
     "output_type": "stream",
     "text": [
      "Done ROBL hsv number of points is 1000 in group groupC. It is more False than was\n",
      "Done ROBL coco number of points is 1000 in group groupA. It is more False than was\n",
      "Done ROBL coco number of points is 1000 in group groupB. It is more False than was\n"
     ]
    },
    {
     "name": "stderr",
     "output_type": "stream",
     "text": [
      " 67%|██████▋   | 6/9 [03:58<02:00, 40.11s/it]"
     ]
    },
    {
     "name": "stdout",
     "output_type": "stream",
     "text": [
      "Done ROBL coco number of points is 1000 in group groupC. It is more False than was\n",
      "Done ROBL midx number of points is 1000 in group groupA. It is more False than was\n",
      "Done ROBL midx number of points is 1000 in group groupB. It is more False than was\n"
     ]
    },
    {
     "name": "stderr",
     "output_type": "stream",
     "text": [
      " 78%|███████▊  | 7/9 [04:36<01:18, 39.31s/it]"
     ]
    },
    {
     "name": "stdout",
     "output_type": "stream",
     "text": [
      "Done ROBL midx number of points is 1000 in group groupC. It is more False than was\n",
      "Done ROBL nocl number of points is 1000 in group groupA. It is more False than was\n",
      "Done ROBL nocl number of points is 1000 in group groupB. It is more False than was\n"
     ]
    },
    {
     "name": "stderr",
     "output_type": "stream",
     "text": [
      " 89%|████████▉ | 8/9 [05:16<00:39, 39.53s/it]"
     ]
    },
    {
     "name": "stdout",
     "output_type": "stream",
     "text": [
      "Done ROBL nocl number of points is 1000 in group groupC. It is more False than was\n",
      "Done ROBL cl_ratio number of points is 1000 in group groupA. It is more False than was\n",
      "Done ROBL cl_ratio number of points is 1000 in group groupB. It is more False than was\n"
     ]
    },
    {
     "name": "stderr",
     "output_type": "stream",
     "text": [
      "100%|██████████| 9/9 [05:52<00:00, 39.18s/it]"
     ]
    },
    {
     "name": "stdout",
     "output_type": "stream",
     "text": [
      "Done ROBL cl_ratio number of points is 1000 in group groupC. It is more False than was\n"
     ]
    },
    {
     "name": "stderr",
     "output_type": "stream",
     "text": [
      "\n"
     ]
    }
   ],
   "source": [
    "for i in tqdm(['cc', 'loc', 'hse', 'hsd', 'hsv', 'coco', 'midx', 'nocl', 'cl_ratio']):\n",
    "    for group, subset in data.items():\n",
    "        if i == 'bl_ratio':\n",
    "            continue\n",
    "        \n",
    "        file_name = f'data_for_paper/{group}_robl_{metrix_mapping.get(i, i)}.csv'\n",
    "        best_values = cluster_and_summarize(subset, col1=\"bl_ratio\", col2=i, n_clusters=1000)\n",
    "        best_values = best_values.sort_values(by='count', ascending=False).reset_index(drop=True)\n",
    "        result_df_from_file = pd.read_csv(file_name, sep=' ')\n",
    "        should_update_file = best_values.shape[0] > result_df_from_file.shape[0]\n",
    "\n",
    "        if force_rewrite_data or should_update_file:\n",
    "            result_df = best_values.rename(columns=metrix_mapping)\n",
    "            result_df[metrix_mapping.get(i, i)] = result_df[metrix_mapping.get(i, i)].astype(int)\n",
    "            result_df.to_csv(file_name, index=False, sep=' ')\n",
    "            \n",
    "        print(f\"Done ROBL {i} number of points is {len(best_values)} in group {group}\")"
   ]
  },
  {
   "cell_type": "code",
   "execution_count": 100,
   "metadata": {},
   "outputs": [
    {
     "name": "stderr",
     "output_type": "stream",
     "text": [
      " 33%|███▎      | 3/9 [00:00<00:00, 17.79it/s]"
     ]
    },
    {
     "name": "stdout",
     "output_type": "stream",
     "text": [
      "Done ROBL cc using value counts 2956 in group groupC. It is more True than was\n",
      "Done ROBL loc using value counts 636 in group groupB. It is more False than was\n",
      "Done ROBL loc using value counts 554 in group groupC. It is more False than was\n"
     ]
    },
    {
     "name": "stderr",
     "output_type": "stream",
     "text": [
      "100%|██████████| 9/9 [00:00<00:00, 21.94it/s]"
     ]
    },
    {
     "name": "stdout",
     "output_type": "stream",
     "text": [
      "Done ROBL nocl using value counts 2829 in group groupC. It is more True than was\n"
     ]
    },
    {
     "name": "stderr",
     "output_type": "stream",
     "text": [
      "\n"
     ]
    }
   ],
   "source": [
    "for i in tqdm(['cc', 'loc', 'hse', 'hsd', 'hsv', 'coco', 'midx', 'nocl', 'cl_ratio']):\n",
    "    for group, subset in data.items():\n",
    "        file_name = f'data_for_paper/{group}_robl_{metrix_mapping.get(i, i)}.csv'\n",
    "        best_values = subset[['bl_ratio', i]].value_counts().reset_index(name='count')\n",
    "        if len(best_values) > 3000:\n",
    "            continue\n",
    "        best_values = best_values.sort_values(by='count', ascending=False).reset_index(drop=True)\n",
    "        result_df_from_file = pd.read_csv(file_name, sep=' ')\n",
    "        should_update_file = len(best_values) > result_df_from_file.shape[0]\n",
    "        if force_rewrite_data or should_update_file:\n",
    "            result_df = best_values.rename(columns=metrix_mapping)\n",
    "            result_df[metrix_mapping.get(i, i)] = result_df[metrix_mapping.get(i, i)].astype(int)\n",
    "            result_df.to_csv(file_name, index=False, sep=' ')\n",
    "\n",
    "        print(f\"Done ROBL {i} using value counts {len(best_values)} in group {group}. It is more {more} than was\")"
   ]
  },
  {
   "cell_type": "markdown",
   "metadata": {},
   "source": [
    "### Build linear regression marks for each metric scatter plot"
   ]
  },
  {
   "cell_type": "code",
   "execution_count": 101,
   "metadata": {},
   "outputs": [
    {
     "name": "stdout",
     "output_type": "stream",
     "text": [
      "Saved linear regression results to: /Users/rmgaliullin/cam_data_600k/small/groupA_nobl_cc_linereg.csv\n",
      "Saved linear regression results to: /Users/rmgaliullin/cam_data_600k/small/groupA_nobl_loc_linereg.csv\n",
      "Saved linear regression results to: /Users/rmgaliullin/cam_data_600k/small/groupA_nobl_hse_linereg.csv\n",
      "Saved linear regression results to: /Users/rmgaliullin/cam_data_600k/small/groupA_nobl_hsd_linereg.csv\n",
      "Saved linear regression results to: /Users/rmgaliullin/cam_data_600k/small/groupA_nobl_hsv_linereg.csv\n",
      "Saved linear regression results to: /Users/rmgaliullin/cam_data_600k/small/groupA_nobl_coco_linereg.csv\n",
      "Saved linear regression results to: /Users/rmgaliullin/cam_data_600k/small/groupA_nobl_midx_linereg.csv\n",
      "Saved linear regression results to: /Users/rmgaliullin/cam_data_600k/small/groupA_nobl_ncl_linereg.csv\n",
      "Saved linear regression results to: /Users/rmgaliullin/cam_data_600k/small/groupA_robl_cc_linereg.csv\n",
      "Saved linear regression results to: /Users/rmgaliullin/cam_data_600k/small/groupA_robl_loc_linereg.csv\n",
      "Saved linear regression results to: /Users/rmgaliullin/cam_data_600k/small/groupA_robl_hse_linereg.csv\n",
      "Saved linear regression results to: /Users/rmgaliullin/cam_data_600k/small/groupA_robl_hsd_linereg.csv\n",
      "Saved linear regression results to: /Users/rmgaliullin/cam_data_600k/small/groupA_robl_hsv_linereg.csv\n",
      "Saved linear regression results to: /Users/rmgaliullin/cam_data_600k/small/groupA_robl_coco_linereg.csv\n",
      "Saved linear regression results to: /Users/rmgaliullin/cam_data_600k/small/groupA_robl_midx_linereg.csv\n",
      "Saved linear regression results to: /Users/rmgaliullin/cam_data_600k/small/groupA_robl_ncl_linereg.csv\n",
      "Saved linear regression results to: /Users/rmgaliullin/cam_data_600k/small/groupB_nobl_cc_linereg.csv\n",
      "Saved linear regression results to: /Users/rmgaliullin/cam_data_600k/small/groupB_nobl_loc_linereg.csv\n",
      "Saved linear regression results to: /Users/rmgaliullin/cam_data_600k/small/groupB_nobl_hse_linereg.csv\n",
      "Saved linear regression results to: /Users/rmgaliullin/cam_data_600k/small/groupB_nobl_hsd_linereg.csv\n",
      "Saved linear regression results to: /Users/rmgaliullin/cam_data_600k/small/groupB_nobl_hsv_linereg.csv\n",
      "Saved linear regression results to: /Users/rmgaliullin/cam_data_600k/small/groupB_nobl_coco_linereg.csv\n",
      "Saved linear regression results to: /Users/rmgaliullin/cam_data_600k/small/groupB_nobl_midx_linereg.csv\n",
      "Saved linear regression results to: /Users/rmgaliullin/cam_data_600k/small/groupB_nobl_ncl_linereg.csv\n",
      "Saved linear regression results to: /Users/rmgaliullin/cam_data_600k/small/groupB_robl_cc_linereg.csv\n",
      "Saved linear regression results to: /Users/rmgaliullin/cam_data_600k/small/groupB_robl_loc_linereg.csv\n",
      "Saved linear regression results to: /Users/rmgaliullin/cam_data_600k/small/groupB_robl_hse_linereg.csv\n",
      "Saved linear regression results to: /Users/rmgaliullin/cam_data_600k/small/groupB_robl_hsd_linereg.csv\n",
      "Saved linear regression results to: /Users/rmgaliullin/cam_data_600k/small/groupB_robl_hsv_linereg.csv\n",
      "Saved linear regression results to: /Users/rmgaliullin/cam_data_600k/small/groupB_robl_coco_linereg.csv\n",
      "Saved linear regression results to: /Users/rmgaliullin/cam_data_600k/small/groupB_robl_midx_linereg.csv\n",
      "Saved linear regression results to: /Users/rmgaliullin/cam_data_600k/small/groupB_robl_ncl_linereg.csv\n",
      "Saved linear regression results to: /Users/rmgaliullin/cam_data_600k/small/groupC_nobl_cc_linereg.csv\n",
      "Saved linear regression results to: /Users/rmgaliullin/cam_data_600k/small/groupC_nobl_loc_linereg.csv\n",
      "Saved linear regression results to: /Users/rmgaliullin/cam_data_600k/small/groupC_nobl_hse_linereg.csv\n",
      "Saved linear regression results to: /Users/rmgaliullin/cam_data_600k/small/groupC_nobl_hsd_linereg.csv\n",
      "Saved linear regression results to: /Users/rmgaliullin/cam_data_600k/small/groupC_nobl_hsv_linereg.csv\n",
      "Saved linear regression results to: /Users/rmgaliullin/cam_data_600k/small/groupC_nobl_coco_linereg.csv\n",
      "Saved linear regression results to: /Users/rmgaliullin/cam_data_600k/small/groupC_nobl_midx_linereg.csv\n",
      "Saved linear regression results to: /Users/rmgaliullin/cam_data_600k/small/groupC_nobl_ncl_linereg.csv\n",
      "Saved linear regression results to: /Users/rmgaliullin/cam_data_600k/small/groupC_robl_cc_linereg.csv\n",
      "Saved linear regression results to: /Users/rmgaliullin/cam_data_600k/small/groupC_robl_loc_linereg.csv\n",
      "Saved linear regression results to: /Users/rmgaliullin/cam_data_600k/small/groupC_robl_hse_linereg.csv\n",
      "Saved linear regression results to: /Users/rmgaliullin/cam_data_600k/small/groupC_robl_hsd_linereg.csv\n",
      "Saved linear regression results to: /Users/rmgaliullin/cam_data_600k/small/groupC_robl_hsv_linereg.csv\n",
      "Saved linear regression results to: /Users/rmgaliullin/cam_data_600k/small/groupC_robl_coco_linereg.csv\n",
      "Saved linear regression results to: /Users/rmgaliullin/cam_data_600k/small/groupC_robl_midx_linereg.csv\n",
      "Saved linear regression results to: /Users/rmgaliullin/cam_data_600k/small/groupC_robl_ncl_linereg.csv\n"
     ]
    }
   ],
   "source": [
    "# Define the parameters\n",
    "groups = [\"groupA\", \"groupB\", \"groupC\"]\n",
    "first_options = ['nobl', 'robl']\n",
    "second_options = ['cc', 'loc', 'hse', 'hsd', 'hsv', 'coco', 'midx', 'ncl']\n",
    "\n",
    "# Iterate over each combination of first and second\n",
    "for group in groups:\n",
    "    for first in first_options:\n",
    "        for second in second_options:\n",
    "            # Construct the file path\n",
    "            input_file_path = f'data_for_paper/{group}_{first}_{second}.csv'\n",
    "            output_file_path = f'data_for_paper/{group}_{first}_{second}_linereg.csv'\n",
    "\n",
    "            # Check if the input file exists\n",
    "            if not os.path.exists(input_file_path):\n",
    "                print(f\"File not found: {input_file_path}\")\n",
    "                continue\n",
    "        \n",
    "            # Read the data from the CSV file\n",
    "            df = pd.read_csv(input_file_path, delimiter=\" \")\n",
    "            # Expand the data according to the 'count' column\n",
    "            expanded_data = pd.DataFrame(np.repeat(df.values, df['count'], axis=0), columns=df.columns)\n",
    "\n",
    "            # Ensure the necessary columns exist\n",
    "            if first not in expanded_data.columns or second not in expanded_data.columns:\n",
    "                print(f\"Columns {first} or {second} not found in {input_file_path}\")\n",
    "                continue\n",
    "\n",
    "            # Prepare the data for linear regression\n",
    "            x = expanded_data[[first]].values.reshape(-1, 1)  # Independent variable\n",
    "            y = expanded_data[second].values  # Dependent variable\n",
    "\n",
    "            # Normalize the independent variable (x)\n",
    "            scaler = MinMaxScaler()\n",
    "            x_normalized = scaler.fit_transform(x)\n",
    "\n",
    "            # Perform linear regression\n",
    "            model = LinearRegression()\n",
    "            model.fit(x_normalized, y)\n",
    "\n",
    "            # Generate points for the regression line\n",
    "            x_range_normalized = np.linspace(0, 1, 50).reshape(-1, 1)  # Normalized range for x\n",
    "            y_pred = model.predict(x_range_normalized)\n",
    "\n",
    "            # Inverse transform the normalized x_range to original scale for output\n",
    "            x_range_original = scaler.inverse_transform(x_range_normalized)\n",
    "\n",
    "            # Create a DataFrame for the results\n",
    "            results_df = pd.DataFrame({\n",
    "                first: x_range_original.flatten(),\n",
    "                second: y_pred\n",
    "            })\n",
    "\n",
    "            # Save the results to a new CSV file with space as the separator\n",
    "            results_df.to_csv(output_file_path, index=False, sep=\" \")\n",
    "            print(f\"Saved linear regression results to: {output_file_path}\")"
   ]
  },
  {
   "cell_type": "markdown",
   "metadata": {},
   "source": [
    "### Make dat-files from their csv examples"
   ]
  },
  {
   "cell_type": "code",
   "execution_count": 102,
   "metadata": {},
   "outputs": [
    {
     "name": "stdout",
     "output_type": "stream",
     "text": [
      "inside\n",
      "Copying CSV file '/Users/rmgaliullin/cam_data_600k/small/groupB_robl_midx.csv' to DAT file '/Users/rmgaliullin/cam_data_600k/small/dat/groupB_robl_midx.dat'\n",
      "Copying CSV file '/Users/rmgaliullin/cam_data_600k/small/groupA_nobl_bl_ratio.csv' to DAT file '/Users/rmgaliullin/cam_data_600k/small/dat/groupA_nobl_bl_ratio.dat'\n",
      "Copying CSV file '/Users/rmgaliullin/cam_data_600k/small/groupC_loc_midx.csv' to DAT file '/Users/rmgaliullin/cam_data_600k/small/dat/groupC_loc_midx.dat'\n",
      "Copying CSV file '/Users/rmgaliullin/cam_data_600k/small/groupA_nobl_hse_linereg.csv' to DAT file '/Users/rmgaliullin/cam_data_600k/small/dat/groupA_nobl_hse_linereg.dat'\n",
      "Copying CSV file '/Users/rmgaliullin/cam_data_600k/small/groupB_nobl_coco.csv' to DAT file '/Users/rmgaliullin/cam_data_600k/small/dat/groupB_nobl_coco.dat'\n",
      "Copying CSV file '/Users/rmgaliullin/cam_data_600k/small/groupC_nobl_rocl.csv' to DAT file '/Users/rmgaliullin/cam_data_600k/small/dat/groupC_nobl_rocl.dat'\n",
      "Copying CSV file '/Users/rmgaliullin/cam_data_600k/small/groupC_robl_hsv.csv' to DAT file '/Users/rmgaliullin/cam_data_600k/small/dat/groupC_robl_hsv.dat'\n",
      "Copying CSV file '/Users/rmgaliullin/cam_data_600k/small/groupA_robl_coco_linereg.csv' to DAT file '/Users/rmgaliullin/cam_data_600k/small/dat/groupA_robl_coco_linereg.dat'\n",
      "Copying CSV file '/Users/rmgaliullin/cam_data_600k/small/groupA_loc_nocl.csv' to DAT file '/Users/rmgaliullin/cam_data_600k/small/dat/groupA_loc_nocl.dat'\n",
      "Copying CSV file '/Users/rmgaliullin/cam_data_600k/small/groupB_nobl_ncl.csv' to DAT file '/Users/rmgaliullin/cam_data_600k/small/dat/groupB_nobl_ncl.dat'\n",
      "Copying CSV file '/Users/rmgaliullin/cam_data_600k/small/groupB_robl_hsd.csv' to DAT file '/Users/rmgaliullin/cam_data_600k/small/dat/groupB_robl_hsd.dat'\n",
      "Copying CSV file '/Users/rmgaliullin/cam_data_600k/small/groupC_nobl_midx_linereg.csv' to DAT file '/Users/rmgaliullin/cam_data_600k/small/dat/groupC_nobl_midx_linereg.dat'\n",
      "Copying CSV file '/Users/rmgaliullin/cam_data_600k/small/groupB_robl_loc_linereg.csv' to DAT file '/Users/rmgaliullin/cam_data_600k/small/dat/groupB_robl_loc_linereg.dat'\n",
      "Copying CSV file '/Users/rmgaliullin/cam_data_600k/small/groupB_robl_hse.csv' to DAT file '/Users/rmgaliullin/cam_data_600k/small/dat/groupB_robl_hse.dat'\n",
      "Copying CSV file '/Users/rmgaliullin/cam_data_600k/small/groupC_loc_hsv.csv' to DAT file '/Users/rmgaliullin/cam_data_600k/small/dat/groupC_loc_hsv.dat'\n",
      "Copying CSV file '/Users/rmgaliullin/cam_data_600k/small/groupC_nobl_hsd_linereg.csv' to DAT file '/Users/rmgaliullin/cam_data_600k/small/dat/groupC_nobl_hsd_linereg.dat'\n",
      "Copying CSV file '/Users/rmgaliullin/cam_data_600k/small/groupC_robl_nocl.csv' to DAT file '/Users/rmgaliullin/cam_data_600k/small/dat/groupC_robl_nocl.dat'\n",
      "Copying CSV file '/Users/rmgaliullin/cam_data_600k/small/groupC_robl_nobl.csv' to DAT file '/Users/rmgaliullin/cam_data_600k/small/dat/groupC_robl_nobl.dat'\n",
      "Copying CSV file '/Users/rmgaliullin/cam_data_600k/small/groupA_loc_cc.csv' to DAT file '/Users/rmgaliullin/cam_data_600k/small/dat/groupA_loc_cc.dat'\n",
      "Copying CSV file '/Users/rmgaliullin/cam_data_600k/small/groupC_loc_hse.csv' to DAT file '/Users/rmgaliullin/cam_data_600k/small/dat/groupC_loc_hse.dat'\n",
      "Copying CSV file '/Users/rmgaliullin/cam_data_600k/small/groupB_robl_hsv.csv' to DAT file '/Users/rmgaliullin/cam_data_600k/small/dat/groupB_robl_hsv.dat'\n",
      "Copying CSV file '/Users/rmgaliullin/cam_data_600k/small/groupA_nobl_hsv_linereg.csv' to DAT file '/Users/rmgaliullin/cam_data_600k/small/dat/groupA_nobl_hsv_linereg.dat'\n",
      "Copying CSV file '/Users/rmgaliullin/cam_data_600k/small/groupA_nobl_cc_linereg.csv' to DAT file '/Users/rmgaliullin/cam_data_600k/small/dat/groupA_nobl_cc_linereg.dat'\n",
      "Copying CSV file '/Users/rmgaliullin/cam_data_600k/small/groupA_loc_nobl.csv' to DAT file '/Users/rmgaliullin/cam_data_600k/small/dat/groupA_loc_nobl.dat'\n",
      "Copying CSV file '/Users/rmgaliullin/cam_data_600k/small/groupC_loc_hsd.csv' to DAT file '/Users/rmgaliullin/cam_data_600k/small/dat/groupC_loc_hsd.dat'\n",
      "Copying CSV file '/Users/rmgaliullin/cam_data_600k/small/groupB_loc_midx.csv' to DAT file '/Users/rmgaliullin/cam_data_600k/small/dat/groupB_loc_midx.dat'\n",
      "Copying CSV file '/Users/rmgaliullin/cam_data_600k/small/groupA_nobl_midx_linereg.csv' to DAT file '/Users/rmgaliullin/cam_data_600k/small/dat/groupA_nobl_midx_linereg.dat'\n",
      "Copying CSV file '/Users/rmgaliullin/cam_data_600k/small/groupC_robl_hse.csv' to DAT file '/Users/rmgaliullin/cam_data_600k/small/dat/groupC_robl_hse.dat'\n",
      "Copying CSV file '/Users/rmgaliullin/cam_data_600k/small/groupB_loc_cl_ratio.csv' to DAT file '/Users/rmgaliullin/cam_data_600k/small/dat/groupB_loc_cl_ratio.dat'\n",
      "Copying CSV file '/Users/rmgaliullin/cam_data_600k/small/groupC_nobl_robl.csv' to DAT file '/Users/rmgaliullin/cam_data_600k/small/dat/groupC_nobl_robl.dat'\n",
      "Copying CSV file '/Users/rmgaliullin/cam_data_600k/small/groupA_nobl_loc.csv' to DAT file '/Users/rmgaliullin/cam_data_600k/small/dat/groupA_nobl_loc.dat'\n",
      "Copying CSV file '/Users/rmgaliullin/cam_data_600k/small/groupA_robl_ncl_linereg.csv' to DAT file '/Users/rmgaliullin/cam_data_600k/small/dat/groupA_robl_ncl_linereg.dat'\n",
      "Copying CSV file '/Users/rmgaliullin/cam_data_600k/small/groupB_nobl_cc_linereg.csv' to DAT file '/Users/rmgaliullin/cam_data_600k/small/dat/groupB_nobl_cc_linereg.dat'\n",
      "Copying CSV file '/Users/rmgaliullin/cam_data_600k/small/groupA_robl_midx.csv' to DAT file '/Users/rmgaliullin/cam_data_600k/small/dat/groupA_robl_midx.dat'\n",
      "Copying CSV file '/Users/rmgaliullin/cam_data_600k/small/groupB_robl_hsd_linereg.csv' to DAT file '/Users/rmgaliullin/cam_data_600k/small/dat/groupB_robl_hsd_linereg.dat'\n",
      "Copying CSV file '/Users/rmgaliullin/cam_data_600k/small/groupC_robl_coco_linereg.csv' to DAT file '/Users/rmgaliullin/cam_data_600k/small/dat/groupC_robl_coco_linereg.dat'\n",
      "Copying CSV file '/Users/rmgaliullin/cam_data_600k/small/groupA_nobl_coco.csv' to DAT file '/Users/rmgaliullin/cam_data_600k/small/dat/groupA_nobl_coco.dat'\n",
      "Copying CSV file '/Users/rmgaliullin/cam_data_600k/small/groupA_robl_cc.csv' to DAT file '/Users/rmgaliullin/cam_data_600k/small/dat/groupA_robl_cc.dat'\n",
      "Copying CSV file '/Users/rmgaliullin/cam_data_600k/small/groupC_nobl_cc_linereg.csv' to DAT file '/Users/rmgaliullin/cam_data_600k/small/dat/groupC_nobl_cc_linereg.dat'\n",
      "Copying CSV file '/Users/rmgaliullin/cam_data_600k/small/groupC_nobl_loc_linereg.csv' to DAT file '/Users/rmgaliullin/cam_data_600k/small/dat/groupC_nobl_loc_linereg.dat'\n",
      "Copying CSV file '/Users/rmgaliullin/cam_data_600k/small/groupC_robl_hsd.csv' to DAT file '/Users/rmgaliullin/cam_data_600k/small/dat/groupC_robl_hsd.dat'\n",
      "Copying CSV file '/Users/rmgaliullin/cam_data_600k/small/groupC_nobl_ncl.csv' to DAT file '/Users/rmgaliullin/cam_data_600k/small/dat/groupC_nobl_ncl.dat'\n",
      "Copying CSV file '/Users/rmgaliullin/cam_data_600k/small/groupA_robl_midx_linereg.csv' to DAT file '/Users/rmgaliullin/cam_data_600k/small/dat/groupA_robl_midx_linereg.dat'\n",
      "Copying CSV file '/Users/rmgaliullin/cam_data_600k/small/groupB_robl_cc.csv' to DAT file '/Users/rmgaliullin/cam_data_600k/small/dat/groupB_robl_cc.dat'\n",
      "Copying CSV file '/Users/rmgaliullin/cam_data_600k/small/groupA_nobl_midx.csv' to DAT file '/Users/rmgaliullin/cam_data_600k/small/dat/groupA_nobl_midx.dat'\n",
      "Copying CSV file '/Users/rmgaliullin/cam_data_600k/small/groupC_nobl_cc.csv' to DAT file '/Users/rmgaliullin/cam_data_600k/small/dat/groupC_nobl_cc.dat'\n",
      "Copying CSV file '/Users/rmgaliullin/cam_data_600k/small/groupA_loc_bl_ratio.csv' to DAT file '/Users/rmgaliullin/cam_data_600k/small/dat/groupA_loc_bl_ratio.dat'\n",
      "Copying CSV file '/Users/rmgaliullin/cam_data_600k/small/groupA_nobl_ncl_linereg.csv' to DAT file '/Users/rmgaliullin/cam_data_600k/small/dat/groupA_nobl_ncl_linereg.dat'\n",
      "Copying CSV file '/Users/rmgaliullin/cam_data_600k/small/groupC_nobl_bl_ratio.csv' to DAT file '/Users/rmgaliullin/cam_data_600k/small/dat/groupC_nobl_bl_ratio.dat'\n",
      "Copying CSV file '/Users/rmgaliullin/cam_data_600k/small/groupC_nobl_hsv.csv' to DAT file '/Users/rmgaliullin/cam_data_600k/small/dat/groupC_nobl_hsv.dat'\n",
      "Copying CSV file '/Users/rmgaliullin/cam_data_600k/small/groupB_nobl_hsd_linereg.csv' to DAT file '/Users/rmgaliullin/cam_data_600k/small/dat/groupB_nobl_hsd_linereg.dat'\n",
      "Copying CSV file '/Users/rmgaliullin/cam_data_600k/small/groupC_nobl_coco_linereg.csv' to DAT file '/Users/rmgaliullin/cam_data_600k/small/dat/groupC_nobl_coco_linereg.dat'\n",
      "Copying CSV file '/Users/rmgaliullin/cam_data_600k/small/groupA_loc_robl.csv' to DAT file '/Users/rmgaliullin/cam_data_600k/small/dat/groupA_loc_robl.dat'\n",
      "Copying CSV file '/Users/rmgaliullin/cam_data_600k/small/groupC_robl_loc_linereg.csv' to DAT file '/Users/rmgaliullin/cam_data_600k/small/dat/groupC_robl_loc_linereg.dat'\n",
      "Copying CSV file '/Users/rmgaliullin/cam_data_600k/small/groupA_test_x_test_y_linereg.csv' to DAT file '/Users/rmgaliullin/cam_data_600k/small/dat/groupA_test_x_test_y_linereg.dat'\n",
      "Copying CSV file '/Users/rmgaliullin/cam_data_600k/small/groupA_robl_coco.csv' to DAT file '/Users/rmgaliullin/cam_data_600k/small/dat/groupA_robl_coco.dat'\n",
      "Copying CSV file '/Users/rmgaliullin/cam_data_600k/small/groupB_robl_ncl.csv' to DAT file '/Users/rmgaliullin/cam_data_600k/small/dat/groupB_robl_ncl.dat'\n",
      "Copying CSV file '/Users/rmgaliullin/cam_data_600k/small/groupB_nobl_hsd.csv' to DAT file '/Users/rmgaliullin/cam_data_600k/small/dat/groupB_nobl_hsd.dat'\n",
      "Copying CSV file '/Users/rmgaliullin/cam_data_600k/small/groupA_robl_hsv_linereg.csv' to DAT file '/Users/rmgaliullin/cam_data_600k/small/dat/groupA_robl_hsv_linereg.dat'\n",
      "Copying CSV file '/Users/rmgaliullin/cam_data_600k/small/groupB_loc_coco.csv' to DAT file '/Users/rmgaliullin/cam_data_600k/small/dat/groupB_loc_coco.dat'\n",
      "Copying CSV file '/Users/rmgaliullin/cam_data_600k/small/groupB_nobl_hse.csv' to DAT file '/Users/rmgaliullin/cam_data_600k/small/dat/groupB_nobl_hse.dat'\n",
      "Copying CSV file '/Users/rmgaliullin/cam_data_600k/small/groupB_nobl_hsv.csv' to DAT file '/Users/rmgaliullin/cam_data_600k/small/dat/groupB_nobl_hsv.dat'\n",
      "Copying CSV file '/Users/rmgaliullin/cam_data_600k/small/groupA_nobl_coco_linereg.csv' to DAT file '/Users/rmgaliullin/cam_data_600k/small/dat/groupA_nobl_coco_linereg.dat'\n",
      "Copying CSV file '/Users/rmgaliullin/cam_data_600k/small/groupB_nobl_bl_ratio.csv' to DAT file '/Users/rmgaliullin/cam_data_600k/small/dat/groupB_nobl_bl_ratio.dat'\n",
      "Copying CSV file '/Users/rmgaliullin/cam_data_600k/small/groupA_robl_cc_linereg.csv' to DAT file '/Users/rmgaliullin/cam_data_600k/small/dat/groupA_robl_cc_linereg.dat'\n",
      "Copying CSV file '/Users/rmgaliullin/cam_data_600k/small/groupC_loc_ncl.csv' to DAT file '/Users/rmgaliullin/cam_data_600k/small/dat/groupC_loc_ncl.dat'\n",
      "Copying CSV file '/Users/rmgaliullin/cam_data_600k/small/groupC_robl_midx_linereg.csv' to DAT file '/Users/rmgaliullin/cam_data_600k/small/dat/groupC_robl_midx_linereg.dat'\n",
      "Copying CSV file '/Users/rmgaliullin/cam_data_600k/small/groupC_loc_cc.csv' to DAT file '/Users/rmgaliullin/cam_data_600k/small/dat/groupC_loc_cc.dat'\n",
      "Copying CSV file '/Users/rmgaliullin/cam_data_600k/small/groupB_nobl_loc_linereg.csv' to DAT file '/Users/rmgaliullin/cam_data_600k/small/dat/groupB_nobl_loc_linereg.dat'\n",
      "Copying CSV file '/Users/rmgaliullin/cam_data_600k/small/groupC_nobl_nocl.csv' to DAT file '/Users/rmgaliullin/cam_data_600k/small/dat/groupC_nobl_nocl.dat'\n",
      "Copying CSV file '/Users/rmgaliullin/cam_data_600k/small/groupC_robl_hsd_linereg.csv' to DAT file '/Users/rmgaliullin/cam_data_600k/small/dat/groupC_robl_hsd_linereg.dat'\n",
      "Copying CSV file '/Users/rmgaliullin/cam_data_600k/small/groupA_robl_loc.csv' to DAT file '/Users/rmgaliullin/cam_data_600k/small/dat/groupA_robl_loc.dat'\n",
      "Copying CSV file '/Users/rmgaliullin/cam_data_600k/small/groupC_robl_cc_linereg.csv' to DAT file '/Users/rmgaliullin/cam_data_600k/small/dat/groupC_robl_cc_linereg.dat'\n",
      "Copying CSV file '/Users/rmgaliullin/cam_data_600k/small/groupB_nobl_midx.csv' to DAT file '/Users/rmgaliullin/cam_data_600k/small/dat/groupB_nobl_midx.dat'\n",
      "Copying CSV file '/Users/rmgaliullin/cam_data_600k/small/groupA_loc_rocl.csv' to DAT file '/Users/rmgaliullin/cam_data_600k/small/dat/groupA_loc_rocl.dat'\n",
      "Copying CSV file '/Users/rmgaliullin/cam_data_600k/small/groupC_nobl_hse.csv' to DAT file '/Users/rmgaliullin/cam_data_600k/small/dat/groupC_nobl_hse.dat'\n",
      "Copying CSV file '/Users/rmgaliullin/cam_data_600k/small/groupA_robl_hse_linereg.csv' to DAT file '/Users/rmgaliullin/cam_data_600k/small/dat/groupA_robl_hse_linereg.dat'\n",
      "Copying CSV file '/Users/rmgaliullin/cam_data_600k/small/groupB_robl_cc_linereg.csv' to DAT file '/Users/rmgaliullin/cam_data_600k/small/dat/groupB_robl_cc_linereg.dat'\n",
      "Copying CSV file '/Users/rmgaliullin/cam_data_600k/small/groupC_nobl_hsd.csv' to DAT file '/Users/rmgaliullin/cam_data_600k/small/dat/groupC_nobl_hsd.dat'\n",
      "Copying CSV file '/Users/rmgaliullin/cam_data_600k/small/groupC_robl_ncl.csv' to DAT file '/Users/rmgaliullin/cam_data_600k/small/dat/groupC_robl_ncl.dat'\n",
      "Copying CSV file '/Users/rmgaliullin/cam_data_600k/small/groupB_robl_coco.csv' to DAT file '/Users/rmgaliullin/cam_data_600k/small/dat/groupB_robl_coco.dat'\n",
      "Copying CSV file '/Users/rmgaliullin/cam_data_600k/small/groupC_loc_cl_ratio.csv' to DAT file '/Users/rmgaliullin/cam_data_600k/small/dat/groupC_loc_cl_ratio.dat'\n",
      "Copying CSV file '/Users/rmgaliullin/cam_data_600k/small/groupA_test_x_test_y.csv' to DAT file '/Users/rmgaliullin/cam_data_600k/small/dat/groupA_test_x_test_y.dat'\n",
      "Copying CSV file '/Users/rmgaliullin/cam_data_600k/small/groupC_loc_coco.csv' to DAT file '/Users/rmgaliullin/cam_data_600k/small/dat/groupC_loc_coco.dat'\n",
      "Copying CSV file '/Users/rmgaliullin/cam_data_600k/small/groupC_robl_rocl.csv' to DAT file '/Users/rmgaliullin/cam_data_600k/small/dat/groupC_robl_rocl.dat'\n",
      "Copying CSV file '/Users/rmgaliullin/cam_data_600k/small/groupB_robl_hse_linereg.csv' to DAT file '/Users/rmgaliullin/cam_data_600k/small/dat/groupB_robl_hse_linereg.dat'\n",
      "Copying CSV file '/Users/rmgaliullin/cam_data_600k/small/groupA_nobl_cc.csv' to DAT file '/Users/rmgaliullin/cam_data_600k/small/dat/groupA_nobl_cc.dat'\n",
      "Copying CSV file '/Users/rmgaliullin/cam_data_600k/small/groupB_nobl_nocl.csv' to DAT file '/Users/rmgaliullin/cam_data_600k/small/dat/groupB_nobl_nocl.dat'\n",
      "Copying CSV file '/Users/rmgaliullin/cam_data_600k/small/groupB_loc_robl.csv' to DAT file '/Users/rmgaliullin/cam_data_600k/small/dat/groupB_loc_robl.dat'\n",
      "Copying CSV file '/Users/rmgaliullin/cam_data_600k/small/groupC_nobl_hsv_linereg.csv' to DAT file '/Users/rmgaliullin/cam_data_600k/small/dat/groupC_nobl_hsv_linereg.dat'\n",
      "Copying CSV file '/Users/rmgaliullin/cam_data_600k/small/groupB_nobl_midx_linereg.csv' to DAT file '/Users/rmgaliullin/cam_data_600k/small/dat/groupB_nobl_midx_linereg.dat'\n",
      "Copying CSV file '/Users/rmgaliullin/cam_data_600k/small/groupB_robl_cl_ratio.csv' to DAT file '/Users/rmgaliullin/cam_data_600k/small/dat/groupB_robl_cl_ratio.dat'\n",
      "Copying CSV file '/Users/rmgaliullin/cam_data_600k/small/groupB_robl_rocl.csv' to DAT file '/Users/rmgaliullin/cam_data_600k/small/dat/groupB_robl_rocl.dat'\n",
      "Copying CSV file '/Users/rmgaliullin/cam_data_600k/small/groupA_nobl_hse.csv' to DAT file '/Users/rmgaliullin/cam_data_600k/small/dat/groupA_nobl_hse.dat'\n",
      "Copying CSV file '/Users/rmgaliullin/cam_data_600k/small/groupC_robl_coco.csv' to DAT file '/Users/rmgaliullin/cam_data_600k/small/dat/groupC_robl_coco.dat'\n",
      "Copying CSV file '/Users/rmgaliullin/cam_data_600k/small/groupA_nobl_loc_linereg.csv' to DAT file '/Users/rmgaliullin/cam_data_600k/small/dat/groupA_nobl_loc_linereg.dat'\n",
      "Copying CSV file '/Users/rmgaliullin/cam_data_600k/small/groupC_loc_rocl.csv' to DAT file '/Users/rmgaliullin/cam_data_600k/small/dat/groupC_loc_rocl.dat'\n",
      "Copying CSV file '/Users/rmgaliullin/cam_data_600k/small/groupB_loc_bl_ratio.csv' to DAT file '/Users/rmgaliullin/cam_data_600k/small/dat/groupB_loc_bl_ratio.dat'\n",
      "Copying CSV file '/Users/rmgaliullin/cam_data_600k/small/groupC_robl_loc.csv' to DAT file '/Users/rmgaliullin/cam_data_600k/small/dat/groupC_robl_loc.dat'\n",
      "Copying CSV file '/Users/rmgaliullin/cam_data_600k/small/groupB_loc_hsd.csv' to DAT file '/Users/rmgaliullin/cam_data_600k/small/dat/groupB_loc_hsd.dat'\n",
      "Copying CSV file '/Users/rmgaliullin/cam_data_600k/small/groupB_loc_hse.csv' to DAT file '/Users/rmgaliullin/cam_data_600k/small/dat/groupB_loc_hse.dat'\n",
      "Copying CSV file '/Users/rmgaliullin/cam_data_600k/small/groupA_loc_coco.csv' to DAT file '/Users/rmgaliullin/cam_data_600k/small/dat/groupA_loc_coco.dat'\n",
      "Copying CSV file '/Users/rmgaliullin/cam_data_600k/small/groupC_robl_ncl_linereg.csv' to DAT file '/Users/rmgaliullin/cam_data_600k/small/dat/groupC_robl_ncl_linereg.dat'\n",
      "Copying CSV file '/Users/rmgaliullin/cam_data_600k/small/groupA_robl_ncl.csv' to DAT file '/Users/rmgaliullin/cam_data_600k/small/dat/groupA_robl_ncl.dat'\n",
      "Copying CSV file '/Users/rmgaliullin/cam_data_600k/small/groupA_nobl_hsd.csv' to DAT file '/Users/rmgaliullin/cam_data_600k/small/dat/groupA_nobl_hsd.dat'\n",
      "Copying CSV file '/Users/rmgaliullin/cam_data_600k/small/groupC_nobl_midx.csv' to DAT file '/Users/rmgaliullin/cam_data_600k/small/dat/groupC_nobl_midx.dat'\n",
      "Copying CSV file '/Users/rmgaliullin/cam_data_600k/small/groupA_nobl_cl_ratio.csv' to DAT file '/Users/rmgaliullin/cam_data_600k/small/dat/groupA_nobl_cl_ratio.dat'\n",
      "Copying CSV file '/Users/rmgaliullin/cam_data_600k/small/groupA_robl_rocl.csv' to DAT file '/Users/rmgaliullin/cam_data_600k/small/dat/groupA_robl_rocl.dat'\n",
      "Copying CSV file '/Users/rmgaliullin/cam_data_600k/small/groupC_nobl_hse_linereg.csv' to DAT file '/Users/rmgaliullin/cam_data_600k/small/dat/groupC_nobl_hse_linereg.dat'\n",
      "Copying CSV file '/Users/rmgaliullin/cam_data_600k/small/groupB_loc_hsv.csv' to DAT file '/Users/rmgaliullin/cam_data_600k/small/dat/groupB_loc_hsv.dat'\n",
      "Copying CSV file '/Users/rmgaliullin/cam_data_600k/small/groupB_robl_hsv_linereg.csv' to DAT file '/Users/rmgaliullin/cam_data_600k/small/dat/groupB_robl_hsv_linereg.dat'\n",
      "Copying CSV file '/Users/rmgaliullin/cam_data_600k/small/groupC_loc_robl.csv' to DAT file '/Users/rmgaliullin/cam_data_600k/small/dat/groupC_loc_robl.dat'\n",
      "Copying CSV file '/Users/rmgaliullin/cam_data_600k/small/groupA_nobl_hsv.csv' to DAT file '/Users/rmgaliullin/cam_data_600k/small/dat/groupA_nobl_hsv.dat'\n",
      "Copying CSV file '/Users/rmgaliullin/cam_data_600k/small/groupC_robl_cl_ratio.csv' to DAT file '/Users/rmgaliullin/cam_data_600k/small/dat/groupC_robl_cl_ratio.dat'\n",
      "Copying CSV file '/Users/rmgaliullin/cam_data_600k/small/groupA_loc_ncl.csv' to DAT file '/Users/rmgaliullin/cam_data_600k/small/dat/groupA_loc_ncl.dat'\n",
      "Copying CSV file '/Users/rmgaliullin/cam_data_600k/small/groupB_robl_coco_linereg.csv' to DAT file '/Users/rmgaliullin/cam_data_600k/small/dat/groupB_robl_coco_linereg.dat'\n",
      "Copying CSV file '/Users/rmgaliullin/cam_data_600k/small/groupA_nobl_hsd_linereg.csv' to DAT file '/Users/rmgaliullin/cam_data_600k/small/dat/groupA_nobl_hsd_linereg.dat'\n",
      "Copying CSV file '/Users/rmgaliullin/cam_data_600k/small/groupA_nobl_nocl.csv' to DAT file '/Users/rmgaliullin/cam_data_600k/small/dat/groupA_nobl_nocl.dat'\n",
      "Copying CSV file '/Users/rmgaliullin/cam_data_600k/small/groupB_loc_rocl.csv' to DAT file '/Users/rmgaliullin/cam_data_600k/small/dat/groupB_loc_rocl.dat'\n",
      "Copying CSV file '/Users/rmgaliullin/cam_data_600k/small/groupB_nobl_ncl_linereg.csv' to DAT file '/Users/rmgaliullin/cam_data_600k/small/dat/groupB_nobl_ncl_linereg.dat'\n",
      "Copying CSV file '/Users/rmgaliullin/cam_data_600k/small/groupB_robl_loc.csv' to DAT file '/Users/rmgaliullin/cam_data_600k/small/dat/groupB_robl_loc.dat'\n",
      "Copying CSV file '/Users/rmgaliullin/cam_data_600k/small/groupA_robl_nocl.csv' to DAT file '/Users/rmgaliullin/cam_data_600k/small/dat/groupA_robl_nocl.dat'\n",
      "Copying CSV file '/Users/rmgaliullin/cam_data_600k/small/groupA_robl_hsd_linereg.csv' to DAT file '/Users/rmgaliullin/cam_data_600k/small/dat/groupA_robl_hsd_linereg.dat'\n",
      "Copying CSV file '/Users/rmgaliullin/cam_data_600k/small/groupB_nobl_cl_ratio.csv' to DAT file '/Users/rmgaliullin/cam_data_600k/small/dat/groupB_nobl_cl_ratio.dat'\n",
      "Copying CSV file '/Users/rmgaliullin/cam_data_600k/small/groupC_loc_nobl.csv' to DAT file '/Users/rmgaliullin/cam_data_600k/small/dat/groupC_loc_nobl.dat'\n",
      "Copying CSV file '/Users/rmgaliullin/cam_data_600k/small/groupB_robl_ncl_linereg.csv' to DAT file '/Users/rmgaliullin/cam_data_600k/small/dat/groupB_robl_ncl_linereg.dat'\n",
      "Copying CSV file '/Users/rmgaliullin/cam_data_600k/small/groupB_loc_cc.csv' to DAT file '/Users/rmgaliullin/cam_data_600k/small/dat/groupB_loc_cc.dat'\n",
      "Copying CSV file '/Users/rmgaliullin/cam_data_600k/small/groupB_robl_nobl.csv' to DAT file '/Users/rmgaliullin/cam_data_600k/small/dat/groupB_robl_nobl.dat'\n",
      "Copying CSV file '/Users/rmgaliullin/cam_data_600k/small/groupB_loc_ncl.csv' to DAT file '/Users/rmgaliullin/cam_data_600k/small/dat/groupB_loc_ncl.dat'\n",
      "Copying CSV file '/Users/rmgaliullin/cam_data_600k/small/groupC_nobl_loc.csv' to DAT file '/Users/rmgaliullin/cam_data_600k/small/dat/groupC_nobl_loc.dat'\n",
      "Copying CSV file '/Users/rmgaliullin/cam_data_600k/small/groupA_nobl_rocl.csv' to DAT file '/Users/rmgaliullin/cam_data_600k/small/dat/groupA_nobl_rocl.dat'\n",
      "Copying CSV file '/Users/rmgaliullin/cam_data_600k/small/groupA_robl_hse.csv' to DAT file '/Users/rmgaliullin/cam_data_600k/small/dat/groupA_robl_hse.dat'\n",
      "Copying CSV file '/Users/rmgaliullin/cam_data_600k/small/groupC_robl_hse_linereg.csv' to DAT file '/Users/rmgaliullin/cam_data_600k/small/dat/groupC_robl_hse_linereg.dat'\n",
      "Copying CSV file '/Users/rmgaliullin/cam_data_600k/small/groupB_loc_nocl.csv' to DAT file '/Users/rmgaliullin/cam_data_600k/small/dat/groupB_loc_nocl.dat'\n",
      "Copying CSV file '/Users/rmgaliullin/cam_data_600k/small/groupA_nobl_ncl.csv' to DAT file '/Users/rmgaliullin/cam_data_600k/small/dat/groupA_nobl_ncl.dat'\n",
      "Copying CSV file '/Users/rmgaliullin/cam_data_600k/small/groupC_loc_bl_ratio.csv' to DAT file '/Users/rmgaliullin/cam_data_600k/small/dat/groupC_loc_bl_ratio.dat'\n",
      "Copying CSV file '/Users/rmgaliullin/cam_data_600k/small/groupA_robl_hsd.csv' to DAT file '/Users/rmgaliullin/cam_data_600k/small/dat/groupA_robl_hsd.dat'\n",
      "Copying CSV file '/Users/rmgaliullin/cam_data_600k/small/groupB_nobl_robl.csv' to DAT file '/Users/rmgaliullin/cam_data_600k/small/dat/groupB_nobl_robl.dat'\n",
      "Copying CSV file '/Users/rmgaliullin/cam_data_600k/small/groupA_loc_hsv.csv' to DAT file '/Users/rmgaliullin/cam_data_600k/small/dat/groupA_loc_hsv.dat'\n",
      "Copying CSV file '/Users/rmgaliullin/cam_data_600k/small/groupB_nobl_hsv_linereg.csv' to DAT file '/Users/rmgaliullin/cam_data_600k/small/dat/groupB_nobl_hsv_linereg.dat'\n",
      "Copying CSV file '/Users/rmgaliullin/cam_data_600k/small/groupB_nobl_coco_linereg.csv' to DAT file '/Users/rmgaliullin/cam_data_600k/small/dat/groupB_nobl_coco_linereg.dat'\n",
      "Copying CSV file '/Users/rmgaliullin/cam_data_600k/small/groupA_loc_midx.csv' to DAT file '/Users/rmgaliullin/cam_data_600k/small/dat/groupA_loc_midx.dat'\n",
      "Copying CSV file '/Users/rmgaliullin/cam_data_600k/small/groupA_loc_cl_ratio.csv' to DAT file '/Users/rmgaliullin/cam_data_600k/small/dat/groupA_loc_cl_ratio.dat'\n",
      "Copying CSV file '/Users/rmgaliullin/cam_data_600k/small/groupA_robl_loc_linereg.csv' to DAT file '/Users/rmgaliullin/cam_data_600k/small/dat/groupA_robl_loc_linereg.dat'\n",
      "Copying CSV file '/Users/rmgaliullin/cam_data_600k/small/groupC_nobl_cl_ratio.csv' to DAT file '/Users/rmgaliullin/cam_data_600k/small/dat/groupC_nobl_cl_ratio.dat'\n",
      "Copying CSV file '/Users/rmgaliullin/cam_data_600k/small/groupA_loc_hse.csv' to DAT file '/Users/rmgaliullin/cam_data_600k/small/dat/groupA_loc_hse.dat'\n",
      "Copying CSV file '/Users/rmgaliullin/cam_data_600k/small/groupB_nobl_rocl.csv' to DAT file '/Users/rmgaliullin/cam_data_600k/small/dat/groupB_nobl_rocl.dat'\n",
      "Copying CSV file '/Users/rmgaliullin/cam_data_600k/small/groupC_nobl_coco.csv' to DAT file '/Users/rmgaliullin/cam_data_600k/small/dat/groupC_nobl_coco.dat'\n",
      "Copying CSV file '/Users/rmgaliullin/cam_data_600k/small/groupB_loc_nobl.csv' to DAT file '/Users/rmgaliullin/cam_data_600k/small/dat/groupB_loc_nobl.dat'\n",
      "Copying CSV file '/Users/rmgaliullin/cam_data_600k/small/groupA_nobl_robl.csv' to DAT file '/Users/rmgaliullin/cam_data_600k/small/dat/groupA_nobl_robl.dat'\n",
      "Copying CSV file '/Users/rmgaliullin/cam_data_600k/small/groupA_robl_hsv.csv' to DAT file '/Users/rmgaliullin/cam_data_600k/small/dat/groupA_robl_hsv.dat'\n",
      "Copying CSV file '/Users/rmgaliullin/cam_data_600k/small/groupA_loc_hsd.csv' to DAT file '/Users/rmgaliullin/cam_data_600k/small/dat/groupA_loc_hsd.dat'\n",
      "Copying CSV file '/Users/rmgaliullin/cam_data_600k/small/groupC_nobl_ncl_linereg.csv' to DAT file '/Users/rmgaliullin/cam_data_600k/small/dat/groupC_nobl_ncl_linereg.dat'\n",
      "Copying CSV file '/Users/rmgaliullin/cam_data_600k/small/groupC_robl_midx.csv' to DAT file '/Users/rmgaliullin/cam_data_600k/small/dat/groupC_robl_midx.dat'\n",
      "Copying CSV file '/Users/rmgaliullin/cam_data_600k/small/groupA_robl_cl_ratio.csv' to DAT file '/Users/rmgaliullin/cam_data_600k/small/dat/groupA_robl_cl_ratio.dat'\n",
      "Copying CSV file '/Users/rmgaliullin/cam_data_600k/small/groupB_nobl_hse_linereg.csv' to DAT file '/Users/rmgaliullin/cam_data_600k/small/dat/groupB_nobl_hse_linereg.dat'\n",
      "Copying CSV file '/Users/rmgaliullin/cam_data_600k/small/groupB_robl_nocl.csv' to DAT file '/Users/rmgaliullin/cam_data_600k/small/dat/groupB_robl_nocl.dat'\n",
      "Copying CSV file '/Users/rmgaliullin/cam_data_600k/small/groupC_loc_nocl.csv' to DAT file '/Users/rmgaliullin/cam_data_600k/small/dat/groupC_loc_nocl.dat'\n",
      "Copying CSV file '/Users/rmgaliullin/cam_data_600k/small/groupB_nobl_loc.csv' to DAT file '/Users/rmgaliullin/cam_data_600k/small/dat/groupB_nobl_loc.dat'\n",
      "Copying CSV file '/Users/rmgaliullin/cam_data_600k/small/groupB_nobl_cc.csv' to DAT file '/Users/rmgaliullin/cam_data_600k/small/dat/groupB_nobl_cc.dat'\n",
      "Copying CSV file '/Users/rmgaliullin/cam_data_600k/small/groupC_robl_cc.csv' to DAT file '/Users/rmgaliullin/cam_data_600k/small/dat/groupC_robl_cc.dat'\n",
      "Copying CSV file '/Users/rmgaliullin/cam_data_600k/small/groupC_robl_hsv_linereg.csv' to DAT file '/Users/rmgaliullin/cam_data_600k/small/dat/groupC_robl_hsv_linereg.dat'\n",
      "Copying CSV file '/Users/rmgaliullin/cam_data_600k/small/groupA_robl_nobl.csv' to DAT file '/Users/rmgaliullin/cam_data_600k/small/dat/groupA_robl_nobl.dat'\n",
      "Copying CSV file '/Users/rmgaliullin/cam_data_600k/small/groupB_robl_midx_linereg.csv' to DAT file '/Users/rmgaliullin/cam_data_600k/small/dat/groupB_robl_midx_linereg.dat'\n",
      "inside\n"
     ]
    }
   ],
   "source": [
    "def copy_csv_to_dat(directory, depth=1):\n",
    "    for root, dirs, files in os.walk(directory):\n",
    "        current_depth = root[len(directory) + 1:].count(os.sep)\n",
    "        print(\"inside\")\n",
    "        if current_depth > depth:\n",
    "            continue\n",
    "        for file in files:\n",
    "            if file.endswith('.csv'):\n",
    "                csv_file_path = os.path.join(root, file)\n",
    "                dat_file_path = os.path.join(root, 'dat', file.replace('.csv', '.dat'))\n",
    "                os.makedirs(os.path.dirname(dat_file_path), exist_ok=True)\n",
    "                print(f\"Copying CSV file '{csv_file_path}' to DAT file '{dat_file_path}'\")\n",
    "                with open(csv_file_path, 'r') as csv_file:\n",
    "                    csv_content = csv_file.read()\n",
    "                    with open(dat_file_path, 'w') as dat_file:\n",
    "                        dat_file.write(csv_content)\n",
    "                    \n",
    "    \n",
    "# Specify the directory path\n",
    "directory_path = 'data_for_paper'\n",
    "\n",
    "# Call the function to copy CSV files to DAT files at depth=1\n",
    "copy_csv_to_dat(directory_path, depth=1)\n"
   ]
  },
  {
   "cell_type": "markdown",
   "metadata": {},
   "source": [
    "## Prepare statistics"
   ]
  },
  {
   "cell_type": "markdown",
   "metadata": {},
   "source": [
    "### Calculate pearson and spearman correlation coeff"
   ]
  },
  {
   "cell_type": "code",
   "execution_count": 103,
   "metadata": {},
   "outputs": [],
   "source": [
    "def calculate_correlations(dataframes, metrics, method='pearson', return_full=False):\n",
    "    \"\"\"\n",
    "    Calculate either Pearson or Spearman correlations for 'nobl' and 'bl_ratio' metrics across groups.\n",
    "\n",
    "    Parameters:\n",
    "    - dataframes: dict, nested dictionary of dataframes for each (group, prefix) pair\n",
    "    - metrics: list, list of metrics to calculate correlations for\n",
    "    - method: str, either 'pearson' or 'spearman'\n",
    "    - return_full: bool, if True, returns the full correlation results instead of just the r value\n",
    "\n",
    "    Returns:\n",
    "    - DataFrame with multi-level columns for each group and feature, with correlation coefficients or full results\n",
    "    \"\"\"\n",
    "    if method != 'pearson' and method != 'spearman':\n",
    "        raise ValueError(\"Method must be 'pearson' or 'spearman'\")\n",
    "    results = {}\n",
    "\n",
    "    # Loop through each prefix and its associated dataframes\n",
    "    for prefix, dfs in dataframes.items():\n",
    "        for group_name, df in dfs.items():\n",
    "            group_results = []\n",
    "            \n",
    "            for metric in metrics:\n",
    "                # Ensure the metric and prefix are treated as Series\n",
    "                x = df[metric].values  # Convert to 1D numpy array for the metric\n",
    "                y = df[prefix].values  # Convert to 1D numpy array for the prefix\n",
    "                \n",
    "                correlation = pg.corr(x=x, y=y, method=method)\n",
    "                \n",
    "                if return_full:\n",
    "                    # Append full correlation result\n",
    "                    group_results.append(correlation[['r', 'CI95%']])\n",
    "                else:\n",
    "                    # Extract only the correlation value (r)\n",
    "                    r_value = correlation['r'].values[0]\n",
    "                    group_results.append(r_value)\n",
    "            \n",
    "            # Store results with a multi-indexed Series for the group and prefix\n",
    "            results[(group_name, prefix)] = pd.Series(group_results, index=metrics)\n",
    "\n",
    "    # Convert results dictionary to a DataFrame with multi-level columns\n",
    "    result_df = pd.DataFrame(results)\n",
    "    \n",
    "    # Set multi-level columns with first level as group and second level as 'nobl' or 'bl_ratio'\n",
    "    result_df.columns.names = ['group', 'feature']\n",
    "    \n",
    "    return result_df\n"
   ]
  },
  {
   "cell_type": "code",
   "execution_count": 104,
   "metadata": {},
   "outputs": [
    {
     "data": {
      "text/html": [
       "<div>\n",
       "<style scoped>\n",
       "    .dataframe tbody tr th:only-of-type {\n",
       "        vertical-align: middle;\n",
       "    }\n",
       "\n",
       "    .dataframe tbody tr th {\n",
       "        vertical-align: top;\n",
       "    }\n",
       "\n",
       "    .dataframe thead th {\n",
       "        text-align: right;\n",
       "    }\n",
       "</style>\n",
       "<table border=\"1\" class=\"dataframe\">\n",
       "  <thead>\n",
       "    <tr style=\"text-align: right;\">\n",
       "      <th></th>\n",
       "      <th>n</th>\n",
       "      <th>r</th>\n",
       "      <th>CI95%</th>\n",
       "      <th>p-val</th>\n",
       "      <th>BF10</th>\n",
       "      <th>power</th>\n",
       "    </tr>\n",
       "  </thead>\n",
       "  <tbody>\n",
       "    <tr>\n",
       "      <th>pearson</th>\n",
       "      <td>300</td>\n",
       "      <td>0.099834</td>\n",
       "      <td>[-0.01, 0.21]</td>\n",
       "      <td>0.084299</td>\n",
       "      <td>0.318</td>\n",
       "      <td>0.408657</td>\n",
       "    </tr>\n",
       "  </tbody>\n",
       "</table>\n",
       "</div>"
      ],
      "text/plain": [
       "           n         r          CI95%     p-val   BF10     power\n",
       "pearson  300  0.099834  [-0.01, 0.21]  0.084299  0.318  0.408657"
      ]
     },
     "execution_count": 104,
     "metadata": {},
     "output_type": "execute_result"
    }
   ],
   "source": [
    "from scipy.stats import spearmanr\n",
    "\n",
    "# Данные\n",
    "X = [i for i in range(300)]\n",
    "Y = [0 for i in range(299)] + [1]\n",
    "\n",
    "# Коэффициент корреляции Спирмена\n",
    "spearman_corr = pg.corr(x=X, y=Y, method='pearson')\n",
    "spearman_corr\n"
   ]
  },
  {
   "cell_type": "code",
   "execution_count": 105,
   "metadata": {},
   "outputs": [
    {
     "name": "stdout",
     "output_type": "stream",
     "text": [
      "Pearson Correlation:\n",
      "group      groupA    groupB    groupC    groupA    groupB    groupC\n",
      "feature      nobl      nobl      nobl  bl_ratio  bl_ratio  bl_ratio\n",
      "loc      0.726481  0.560810  0.500309  0.173089  0.191590 -0.502208\n",
      "cc       0.356849  0.283058  0.205116  0.105610  0.056389 -0.334712\n",
      "coco     0.301803  0.301604  0.190454  0.073861  0.058191 -0.348887\n",
      "hse      0.325400  0.455861  0.366510  0.025680  0.156861 -0.267856\n",
      "hsv      0.584066  0.543944  0.454342  0.119666  0.213930 -0.367099\n",
      "hsd      0.523015  0.352822  0.262741  0.225330  0.129705 -0.300385\n",
      "midx    -0.583841 -0.260665 -0.288931 -0.089628 -0.059114  0.123527\n",
      "nocl     0.568640  0.418653  0.405393  0.206469  0.251332  0.130241\n",
      "\n",
      "Spearman Correlation:\n",
      "group      groupA    groupB    groupC    groupA    groupB    groupC\n",
      "feature      nobl      nobl      nobl  bl_ratio  bl_ratio  bl_ratio\n",
      "loc      0.557681  0.514135  0.512461  0.561830  0.424481 -0.615149\n",
      "cc       0.447345  0.266146  0.235179  0.428097  0.197853 -0.426238\n",
      "coco     0.443867  0.261469  0.218727  0.424551  0.192137 -0.454645\n",
      "hse      0.504927  0.492064  0.455218  0.504435  0.413002 -0.491275\n",
      "hsv      0.513503  0.516475  0.471252  0.513503  0.438366 -0.492393\n",
      "hsd      0.423918  0.337844  0.314908  0.418338  0.268609 -0.376653\n",
      "midx    -0.385191 -0.271910 -0.351216 -0.334376 -0.187933  0.279489\n",
      "nocl     0.404724  0.335235  0.323086  0.402072  0.294024 -0.019181\n"
     ]
    }
   ],
   "source": [
    "dataframes = {\n",
    "    'nobl': {\n",
    "        'groupA': nobl_subset_df,\n",
    "        'groupB': nobl_subset_df_3_40,\n",
    "        'groupC': nobl_subset_df_3_40_with_non_zero_bl\n",
    "    },\n",
    "    'bl_ratio': {\n",
    "        'groupA': robl_subset_df,\n",
    "        'groupB': robl_subset_df_3_40,\n",
    "        'groupC': robl_subset_df_3_40_with_non_zero_bl\n",
    "    }\n",
    "}\n",
    "metrics = ['loc', 'cc', 'coco', 'hse', 'hsv', 'hsd', 'midx', 'nocl']\n",
    "\n",
    "# Calculate Pearson correlation\n",
    "pearson_corr_result = calculate_correlations(dataframes, metrics, method='pearson')\n",
    "print(\"Pearson Correlation:\")\n",
    "print(pearson_corr_result)\n",
    "\n",
    "# Calculate Spearman correlation\n",
    "spearman_corr_result = calculate_correlations(dataframes, metrics, method='spearman')\n",
    "print(\"\\nSpearman Correlation:\")\n",
    "print(spearman_corr_result)"
   ]
  },
  {
   "cell_type": "markdown",
   "metadata": {},
   "source": [
    "Count correlations between nobl and robl"
   ]
  },
  {
   "cell_type": "code",
   "execution_count": 106,
   "metadata": {},
   "outputs": [
    {
     "data": {
      "text/plain": [
       "(              n         r         CI95%  p-val BF10  power\n",
       " pearson  593168  0.439375  [0.44, 0.44]    0.0  inf    1.0,\n",
       "                n         r         CI95%  p-val  power\n",
       " spearman  593168  0.994291  [0.99, 0.99]    0.0    1.0)"
      ]
     },
     "execution_count": 106,
     "metadata": {},
     "output_type": "execute_result"
    }
   ],
   "source": [
    "clean = subset_df[np.isfinite(subset_df['bl_ratio']) & ~subset_df['bl_ratio'].isna()]\n",
    "correlation_pearson, correlation_spearman = pg.corr(x=clean['nobl'], y=clean['bl_ratio'], method='pearson'), pg.corr(x=clean['nobl'], y=clean['bl_ratio'], method='spearman')\n",
    "correlation_pearson, correlation_spearman"
   ]
  },
  {
   "cell_type": "code",
   "execution_count": 107,
   "metadata": {},
   "outputs": [
    {
     "data": {
      "text/plain": [
       "(              n         r         CI95%  p-val BF10  power\n",
       " pearson  258728  0.714951  [0.71, 0.72]    0.0  inf    1.0,\n",
       "                n         r         CI95%  p-val  power\n",
       " spearman  258728  0.977638  [0.98, 0.98]    0.0    1.0)"
      ]
     },
     "execution_count": 107,
     "metadata": {},
     "output_type": "execute_result"
    }
   ],
   "source": [
    "clean = subset_df_3_40[np.isfinite(subset_df_3_40['bl_ratio']) & ~subset_df_3_40['bl_ratio'].isna()]\n",
    "correlation_pearson, correlation_spearman = pg.corr(x=clean['nobl'], y=clean['bl_ratio'], method='pearson'), pg.corr(x=clean['nobl'], y=clean['bl_ratio'], method='spearman')\n",
    "correlation_pearson, correlation_spearman"
   ]
  },
  {
   "cell_type": "code",
   "execution_count": 108,
   "metadata": {},
   "outputs": [
    {
     "data": {
      "text/plain": [
       "(             n         r         CI95%  p-val BF10  power\n",
       " pearson  49640  0.274597  [0.27, 0.28]    0.0  inf    1.0,\n",
       "               n        r        CI95%  p-val  power\n",
       " spearman  49640  0.29327  [0.29, 0.3]    0.0    1.0)"
      ]
     },
     "execution_count": 108,
     "metadata": {},
     "output_type": "execute_result"
    }
   ],
   "source": [
    "clean = subset_df_3_40_with_non_zero_bl[np.isfinite(subset_df_3_40_with_non_zero_bl['bl_ratio']) & ~subset_df_3_40_with_non_zero_bl['bl_ratio'].isna()]\n",
    "correlation_pearson, correlation_spearman = pg.corr(x=clean['nobl'], y=clean['bl_ratio'], method='pearson'), pg.corr(x=clean['nobl'], y=clean['bl_ratio'], method='spearman')\n",
    "correlation_pearson, correlation_spearman"
   ]
  },
  {
   "cell_type": "markdown",
   "metadata": {},
   "source": [
    "### Generate latex result tables"
   ]
  },
  {
   "cell_type": "code",
   "execution_count": 109,
   "metadata": {},
   "outputs": [],
   "source": [
    "def format_correlation_table(df, underline_threshold=0.4):\n",
    "    # Define the desired column order for groups and features\n",
    "    ordered_columns = [\n",
    "        ('groupA', 'nobl'), ('groupA', 'bl_ratio'),\n",
    "        ('groupB', 'nobl'), ('groupB', 'bl_ratio'),\n",
    "        ('groupC', 'nobl'), ('groupC', 'bl_ratio')\n",
    "    ]\n",
    "    \n",
    "    # Reorder DataFrame columns to match the desired order\n",
    "    df = df[ordered_columns]\n",
    "\n",
    "    # Mapping for metric names to LaTeX \\mt{} format with case sensitivity\n",
    "    metric_mapping = {\n",
    "        'cc': 'CC',\n",
    "        'coco': 'CoCo',\n",
    "        'hse': 'HSE',\n",
    "        'hsv': 'HSV',\n",
    "        'hsd': 'HSD',\n",
    "        'midx': 'MIDX',\n",
    "        'nocl': 'NCL',\n",
    "        'loc': 'LoC'\n",
    "    }\n",
    "    \n",
    "    # Start building the LaTeX table string\n",
    "    table_string = \"\"\n",
    "    \n",
    "    # Loop over each metric (index) in the DataFrame\n",
    "    for metric in df.index:\n",
    "        # Use the mapped name for LaTeX formatting, if available\n",
    "        metric_latex = metric_mapping.get(metric.lower(), metric)\n",
    "        row = f\"\\\\mt{{{metric_latex}}} \"\n",
    "        \n",
    "        # Loop over each (group, feature) pair in the ordered columns\n",
    "        for (group, feature) in ordered_columns:\n",
    "            # Get the correlation value for the current metric, group, and feature\n",
    "            value = df.loc[metric, (group, feature)]\n",
    "            \n",
    "            # Check if value exceeds underline threshold and format accordingly\n",
    "            if abs(value) > underline_threshold:\n",
    "                row += f\"& \\\\ul{{{value:.2f}}} \"\n",
    "            else:\n",
    "                row += f\"& {value:.2f} \"\n",
    "        \n",
    "        # End the row with a newline character and add it to the table string\n",
    "        table_string += row + \"\\\\\\\\\\n\"\n",
    "\n",
    "    return table_string\n"
   ]
  },
  {
   "cell_type": "code",
   "execution_count": 110,
   "metadata": {},
   "outputs": [
    {
     "name": "stdout",
     "output_type": "stream",
     "text": [
      "\\mt{LoC} & \\ul{0.73} & 0.17 & \\ul{0.56} & 0.19 & \\ul{0.50} & \\ul{-0.50} \\\\\n",
      "\\mt{CC} & 0.36 & 0.11 & 0.28 & 0.06 & 0.21 & -0.33 \\\\\n",
      "\\mt{CoCo} & 0.30 & 0.07 & 0.30 & 0.06 & 0.19 & -0.35 \\\\\n",
      "\\mt{HSE} & 0.33 & 0.03 & \\ul{0.46} & 0.16 & 0.37 & -0.27 \\\\\n",
      "\\mt{HSV} & \\ul{0.58} & 0.12 & \\ul{0.54} & 0.21 & \\ul{0.45} & -0.37 \\\\\n",
      "\\mt{HSD} & \\ul{0.52} & 0.23 & 0.35 & 0.13 & 0.26 & -0.30 \\\\\n",
      "\\mt{MIDX} & \\ul{-0.58} & -0.09 & -0.26 & -0.06 & -0.29 & 0.12 \\\\\n",
      "\\mt{NCL} & \\ul{0.57} & 0.21 & \\ul{0.42} & 0.25 & \\ul{0.41} & 0.13 \\\\\n",
      "\n"
     ]
    }
   ],
   "source": [
    "# Generate the formatted table string\n",
    "table_string = format_correlation_table(pearson_corr_result)\n",
    "print(table_string)"
   ]
  },
  {
   "cell_type": "code",
   "execution_count": 111,
   "metadata": {},
   "outputs": [
    {
     "name": "stdout",
     "output_type": "stream",
     "text": [
      "\\mt{LoC} & \\ul{0.56} & \\ul{0.56} & \\ul{0.51} & \\ul{0.42} & \\ul{0.51} & \\ul{-0.62} \\\\\n",
      "\\mt{CC} & \\ul{0.45} & \\ul{0.43} & 0.27 & 0.20 & 0.24 & \\ul{-0.43} \\\\\n",
      "\\mt{CoCo} & \\ul{0.44} & \\ul{0.42} & 0.26 & 0.19 & 0.22 & \\ul{-0.45} \\\\\n",
      "\\mt{HSE} & \\ul{0.50} & \\ul{0.50} & \\ul{0.49} & \\ul{0.41} & \\ul{0.46} & \\ul{-0.49} \\\\\n",
      "\\mt{HSV} & \\ul{0.51} & \\ul{0.51} & \\ul{0.52} & \\ul{0.44} & \\ul{0.47} & \\ul{-0.49} \\\\\n",
      "\\mt{HSD} & \\ul{0.42} & \\ul{0.42} & 0.34 & 0.27 & 0.31 & -0.38 \\\\\n",
      "\\mt{MIDX} & -0.39 & -0.33 & -0.27 & -0.19 & -0.35 & 0.28 \\\\\n",
      "\\mt{NCL} & \\ul{0.40} & \\ul{0.40} & 0.34 & 0.29 & 0.32 & -0.02 \\\\\n",
      "\n"
     ]
    }
   ],
   "source": [
    "# Generate the formatted table string\n",
    "table_string = format_correlation_table(spearman_corr_result)\n",
    "print(table_string)"
   ]
  }
 ],
 "metadata": {
  "kernelspec": {
   "display_name": ".venv",
   "language": "python",
   "name": "python3"
  },
  "language_info": {
   "codemirror_mode": {
    "name": "ipython",
    "version": 3
   },
   "file_extension": ".py",
   "mimetype": "text/x-python",
   "name": "python",
   "nbconvert_exporter": "python",
   "pygments_lexer": "ipython3",
   "version": "3.11.7"
  }
 },
 "nbformat": 4,
 "nbformat_minor": 2
}
